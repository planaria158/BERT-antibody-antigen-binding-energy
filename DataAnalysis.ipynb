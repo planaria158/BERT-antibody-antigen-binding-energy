{
 "cells": [
  {
   "cell_type": "markdown",
   "metadata": {},
   "source": [
    "## a-AlphaBio homework problem\n",
    "### Mark Thompson\n",
    "### Started April 29, 2024 "
   ]
  },
  {
   "cell_type": "markdown",
   "metadata": {},
   "source": [
    "#### scFv single-chain fragments of Pembrolizumab; which targets the programmed cell death protein 1 (PD-1) receptor of lymphocytes.\n",
    "https://en.wikipedia.org/wiki/Pembrolizumab\n"
   ]
  },
  {
   "cell_type": "code",
   "execution_count": 1,
   "metadata": {},
   "outputs": [],
   "source": [
    "%load_ext autoreload"
   ]
  },
  {
   "cell_type": "code",
   "execution_count": 2,
   "metadata": {},
   "outputs": [],
   "source": [
    "%autoreload\n",
    "# import libraries\n",
    "import numpy as np\n",
    "import pickle as pk\n",
    "import pandas as pd\n",
    "import math\n",
    "import os\n",
    "import torch\n",
    "import matplotlib.pyplot as plt\n",
    "%matplotlib inline\n",
    "\n",
    "import sys\n",
    "sys.path.append(\"../\")"
   ]
  },
  {
   "cell_type": "markdown",
   "metadata": {},
   "source": [
    "----\n",
    "### Data set analysis\n",
    "* remove rows with NAN for Kd (note: NAN may indicate a non-binding or very very poor binding event. I could impute a very high value for Kd for these cases.  I will ignore them in this first pass)\n",
    "\n",
    "* also check for any Kd values < 0 (there were some in the dataset from the Nature paper)\n",
    "* identify duplicate sequences and accumulate mean Kd values for these.\n",
    "* for duplicates, take the Kd value as the mean of the Kd values over the duplicate sequences.  Caveat: eyeball these first to ensure the Kd values are NOT widely spread in value."
   ]
  },
  {
   "cell_type": "code",
   "execution_count": null,
   "metadata": {},
   "outputs": [],
   "source": [
    "data_file = './data/alphaseq_data_train.csv'\n",
    "df = pd.read_csv(data_file)\n",
    "rows1 = df.shape[0]\n",
    "print('starting dataframe has', rows1, 'rows')\n",
    "print(df.columns.tolist())"
   ]
  },
  {
   "cell_type": "code",
   "execution_count": null,
   "metadata": {},
   "outputs": [],
   "source": [
    "# Remove Kd nans\n",
    "#\n",
    "df = df.dropna(subset=['Kd'])\n",
    "rows2 = df.shape[0]\n",
    "print('after removing nans, dataframe has', rows2, 'rows; (there were', rows1-rows2, 'rows with Kd=nan)')"
   ]
  },
  {
   "cell_type": "code",
   "execution_count": null,
   "metadata": {},
   "outputs": [],
   "source": [
    "# Do I need to remove Kd vals that are negative?\n",
    "#\n",
    "num_negatives = (df[df['Kd'] > 0]).shape[0] - rows2\n",
    "print('There are', num_negatives, 'Kd values < 0')"
   ]
  },
  {
   "cell_type": "code",
   "execution_count": null,
   "metadata": {},
   "outputs": [],
   "source": [
    "# Get the Kd,Kd_lower_bound,Kd_upper_bound columns\n",
    "#\n",
    "deltas = df['Kd_upper_bound'] - df['Kd_lower_bound']\n",
    "qvals = df['q_value']\n",
    "plt.figure(figsize=(3,3))\n",
    "plt.hist(deltas, bins=100)\n",
    "plt.xlabel('(Kd_upper - Kd_lower) log10 (nm)')\n",
    "plt.ylabel('count')\n",
    "plt.title('Distribution of (Kd_upper - Kd_lower) values scFv data')\n",
    "plt.show()"
   ]
  },
  {
   "cell_type": "code",
   "execution_count": null,
   "metadata": {},
   "outputs": [],
   "source": [
    "# Scatter plot of q_value vs (Kd_upper - Kd_lower)\n",
    "#\n",
    "print('df shape:', df.shape)\n",
    "plt.figure(figsize=(4,4))\n",
    "plt.scatter(deltas, qvals, c =\"blue\")\n",
    "plt.xlabel('(Kd_upper - Kd_lower) log10 (nm)')\n",
    "plt.ylabel('q_values')\n",
    "plt.title('False Discovery Rate (q_value) vs (Kd_upper - Kd_lower) values scFv data')\n",
    "# plt.xlim(0, 5)\n",
    "# plt.ylim(0, 5)\n",
    "plt.show()\n"
   ]
  },
  {
   "cell_type": "code",
   "execution_count": null,
   "metadata": {},
   "outputs": [],
   "source": [
    "qvals = df['q_value']\n",
    "print('df shape:', df.shape)\n",
    "plt.figure(figsize=(3,3))\n",
    "plt.hist(qvals, bins=100)\n",
    "plt.xlabel('q_vals')\n",
    "plt.ylabel('count')\n",
    "plt.title('False Discovery Rate (q_value) scFv data')\n",
    "plt.show()"
   ]
  },
  {
   "cell_type": "code",
   "execution_count": null,
   "metadata": {},
   "outputs": [],
   "source": [
    "# Remove rows with q_values > 0.5  \n",
    "#\n",
    "df = df[df['q_value'] <= 0.5]\n",
    "print('number of rows after culling q_value > 0.5:', df.shape)"
   ]
  },
  {
   "cell_type": "code",
   "execution_count": null,
   "metadata": {},
   "outputs": [],
   "source": [
    "# Identify duplicate sequences and process their multiple Kd values\n",
    "#\n",
    "seqs = {} # will contain a list for binding energies for each unique sequence\n",
    "for index, row in df.iterrows():\n",
    "    seq = row['sequence_a']\n",
    "    Kds = {'Kd_min:': row['Kd_lower_bound'], 'Kd:': row['Kd'],  'Kd_max:': row['Kd_upper_bound']}\n",
    "    # affinity = row['Kd']\n",
    "    if seq not in seqs:\n",
    "        seqs[seq] = list()\n",
    "        # seqs[seq].append(affinity)\n",
    "        seqs[seq].append(Kds)\n",
    "    else:\n",
    "        seqs[seq].append(Kds)\n",
    "\n",
    "print('Number of unique sequences:', len(seqs))\n",
    "print('First few entries')\n",
    "for i, (k, v) in enumerate(seqs.items()):\n",
    "    assert len(v) > 0, 'empty set for sequence'\n",
    "    print(i, ':', 'num values:', len(v), ', values:', v)\n",
    "    if i > 2:\n",
    "        break"
   ]
  },
  {
   "cell_type": "code",
   "execution_count": null,
   "metadata": {},
   "outputs": [],
   "source": [
    "# Calc the mean Kd for all unique sequences:\n",
    "# calc the mean of the binding affinities for each sequence\n",
    "seqs_mean_Kd = {}\n",
    "for k,v in seqs.items():\n",
    "    if len(v) > 1:\n",
    "        kd = [x['Kd:'] for x in v]\n",
    "        kdmin = [x['Kd_min:'] for x in v]\n",
    "        kdmax = [x['Kd_max:'] for x in v]\n",
    "        kd_mean = np.mean(kd)\n",
    "        kdmin_mean = np.mean(kdmin)\n",
    "        kdmax_mean = np.mean(kdmax)\n",
    "        assert(kdmin_mean <= kd_mean <= kdmax_mean), 'mean Kd not within bounds'\n",
    "        seqs_mean_Kd[k] = [kdmin_mean, kd_mean, kdmax_mean]\n",
    "    else:\n",
    "        seqs_mean_Kd[k] = [v[0]['Kd_min:'], v[0]['Kd:'], v[0]['Kd_max:']]\n",
    "\n",
    "# Is there a distribution of lengths for scFv ?\n",
    "s = set([len(k) for k,v in seqs_mean_Kd.items()])\n",
    "print('Total number of different sequence lengths:', len(s), ', and it is', s, 'aa residues long')\n",
    "\n",
    "# # Is there a distribution of lengths for scFv ?\n",
    "# s = set([len(k) for k,v in seqs_mean_Kd.items()])\n",
    "# print('Total number of different sequence lengths:', len(s), ', and it is', s, 'aa residues long')"
   ]
  },
  {
   "cell_type": "code",
   "execution_count": null,
   "metadata": {},
   "outputs": [],
   "source": [
    "print('Number of unique sequences:', len(seqs_mean_Kd))\n",
    "print('First few entries')\n",
    "for i, (k, v) in enumerate(seqs_mean_Kd.items()):\n",
    "    assert len(v) > 0, 'empty list for sequence'\n",
    "    print(i, ':', 'values:', v)\n",
    "    if i > 2:\n",
    "        break\n",
    "\n"
   ]
  },
  {
   "cell_type": "code",
   "execution_count": null,
   "metadata": {},
   "outputs": [],
   "source": [
    "# calc binding free energy (in kcal/mol) from Kd \n",
    "# affinity is Kd in nM\n",
    "R = 1.98722 # cal/(mol*K)\n",
    "T = 298.15 # K\n",
    "def delta_G(Kd):\n",
    "    delG = R * T * math.log10(Kd * 1e-9)    # or -RT log10(Ka)\n",
    "    return delG/1000\n"
   ]
  },
  {
   "cell_type": "code",
   "execution_count": null,
   "metadata": {},
   "outputs": [],
   "source": [
    "# Histogram of Kd values\n",
    "#\n",
    "kds = [v for k,v in seqs_mean_Kd.items()]\n",
    "plt.figure(figsize=(3,3))\n",
    "plt.hist(kds, bins=100)\n",
    "plt.xlabel('Kd log10 (nm)')\n",
    "plt.ylabel('count')\n",
    "plt.title('Distribution of Kd values in scFv fragments')\n",
    "plt.show()\n"
   ]
  },
  {
   "cell_type": "code",
   "execution_count": null,
   "metadata": {},
   "outputs": [],
   "source": [
    "# Histogram of dG binding values\n",
    "#\n",
    "kds = [delta_G(v) for k,v in seqs_mean_Kd.items()]\n",
    "plt.figure(figsize=(3,3))\n",
    "plt.hist(kds, bins=100)\n",
    "plt.xlabel('dG binding (kcal/mol)')\n",
    "plt.ylabel('count')\n",
    "plt.title('Distribution of dG values in scFv fragments')\n",
    "plt.show()\n"
   ]
  },
  {
   "cell_type": "code",
   "execution_count": null,
   "metadata": {},
   "outputs": [],
   "source": [
    "# Get a sense of the frequency of variability in each aa position in the scFv sequences\n",
    "#\n",
    "aa_sets = [set() for i in range(246)]\n",
    "\n",
    "for k,v in seqs_mean_Kd.items():\n",
    "    for i in range(len(k)):\n",
    "        aa_sets[i].add(k[i])\n",
    "\n",
    "# subtract 1 to account for the conserved aa positions that never change\n",
    "counts = [len(x)-1 for x in aa_sets] \n",
    "\n",
    "# find first index where counts is > 0\n",
    "firstIdx = next(x for x, val in enumerate(counts) if val != 0)\n",
    "# and when it drops to 1 again\n",
    "lastIdx = firstIdx + next(x for x, val in enumerate(counts[firstIdx:]) if val == 0)\n",
    "\n",
    "# Mutations occur in a CDR region\n",
    "print('mutations start at position', firstIdx, 'and end at position', lastIdx)\n",
    "print('length of mutation region:', lastIdx-firstIdx+1)\n",
    "\n",
    "# Absolute mutation frequency for each position in the aa sequence\n",
    "mut_freq = torch.tensor([i/len(seqs_mean_Kd) for i in counts])\n",
    "print('min mutation frequency:', torch.min(mut_freq))\n",
    "print('max mutation frequency:', torch.max(mut_freq))\n",
    "\n",
    "# Normalize the relative mutation frequency [0,1]\n",
    "mut_freq = mut_freq/torch.max(mut_freq)\n",
    "\n",
    "plt.figure(figsize=(5,5))\n",
    "plt.plot(mut_freq)\n",
    "plt.xlabel('position in sequence')\n",
    "plt.ylabel('mutation frequency')\n",
    "plt.title('Normalized, relative variability at each position in the scFv sequences')\n",
    "# plt.xlim(20, 110)\n",
    "plt.ylim(0, 1.1)"
   ]
  },
  {
   "cell_type": "code",
   "execution_count": null,
   "metadata": {},
   "outputs": [],
   "source": [
    "print(len(mut_freq))\n",
    "print(mut_freq)\n",
    "\n",
    "# plt.xlim(20, 110)\n",
    "# plt.ylim(0, 20)\n",
    "# pk.dump(norm_counts, open('norm_counts.pkl', 'wb'))"
   ]
  },
  {
   "cell_type": "code",
   "execution_count": null,
   "metadata": {},
   "outputs": [],
   "source": [
    "norm_counts = [0.05, 0.05, 0.05, 0.05, 0.05, 0.05, 0.05, 0.05, 0.05, 0.05, 0.05, 0.05, 0.05, 0.05, 0.05, 0.05, 0.05, 0.05, 0.05, 0.05, 0.05, 0.05, 0.05, 0.05, 0.05, 0.05, 0.05, 0.05, 0.05, 0.95, 0.95, 0.95, 0.95, 0.95, 0.95, 0.75, 0.9, 0.9, 0.95, 0.95, 0.95, 0.9, 0.95, 0.95, 0.85, 0.55, 0.5, 0.25, 0.35, 0.3, 0.6, 0.45, 0.55, 0.95, 0.8, 0.8, 0.8, 0.9, 0.75, 0.8, 0.6, 0.95, 0.85, 0.35, 0.9, 0.85, 0.15, 0.4, 0.9, 0.3, 0.9, 0.8, 0.5, 0.95, 0.95, 0.95, 0.9, 0.6, 0.6, 0.75, 0.3, 0.85, 0.4, 0.9, 0.95, 0.4, 0.9, 0.95, 0.9, 0.25, 0.75, 0.55, 0.85, 0.25, 0.75, 0.6, 0.65, 0.8, 0.8, 0.95, 0.95, 0.85, 0.8, 0.8, 0.9, 0.7, 0.9, 0.9, 0.05, 0.05, 0.05, 0.05, 0.05, 0.05, 0.05, 0.05, 0.05, 0.05, 0.05, 0.05, 0.05, 0.05, 0.05, 0.05, 0.05, 0.05, 0.05, 0.05, 0.05, 0.05, 0.05, 0.05, 0.05, 0.05, 0.05, 0.05, 0.05, 0.05, 0.05, 0.05, 0.05, 0.05, 0.05, 0.05, 0.05, 0.05, 0.05, 0.05, 0.05, 0.05, 0.05, 0.05, 0.05, 0.05, 0.05, 0.05, 0.05, 0.05, 0.05, 0.05, 0.05, 0.05, 0.05, 0.05, 0.05, 0.05, 0.05, 0.05, 0.05, 0.05, 0.05, 0.05, 0.05, 0.05, 0.05, 0.05, 0.05, 0.05, 0.05, 0.05, 0.05, 0.05, 0.05, 0.05, 0.05, 0.05, 0.05, 0.05, 0.05, 0.05, 0.05, 0.05, 0.05, 0.05, 0.05, 0.05, 0.05, 0.05, 0.05, 0.05, 0.05, 0.05, 0.05, 0.05, 0.05, 0.05, 0.05, 0.05, 0.05, 0.05, 0.05, 0.05, 0.05, 0.05, 0.05, 0.05, 0.05, 0.05, 0.05, 0.05, 0.05, 0.05, 0.05, 0.05, 0.05, 0.05, 0.05, 0.05, 0.05, 0.05, 0.05, 0.05, 0.05, 0.05, 0.05, 0.05, 0.05, 0.05, 0.05, 0.05, 0.05, 0.05, 0.05, 0.05, 0.05, 0.05]\n",
    "print(len(norm_counts))\n",
    "plt.plot(norm_counts)"
   ]
  },
  {
   "cell_type": "markdown",
   "metadata": {},
   "source": [
    "### Create train/val/test split  (80/10/10)"
   ]
  },
  {
   "cell_type": "code",
   "execution_count": null,
   "metadata": {},
   "outputs": [],
   "source": [
    "# Create the train and test sets and save as csv files\n",
    "seqs = [k for k,v in seqs_mean_Kd.items()]\n",
    "kd_vals  = [v for k,v in seqs_mean_Kd.items()]\n",
    "\n",
    "kd_mins = [v[0] for v in kd_vals]\n",
    "kds     = [v[1] for v in kd_vals]\n",
    "kd_maxs = [v[2] for v in kd_vals]\n",
    "\n",
    "df_out = pd.DataFrame({'sequence_a': seqs, 'Kd': kds, 'Kd_min': kd_mins, 'Kd_max': kd_maxs})\n",
    "print('df_out shape:', df_out.shape)\n",
    "print('df_out columns:', df_out.columns.tolist())\n",
    "\n",
    "# Train/val/test split 80/10/10\n",
    "df_train = df_out.sample(frac=0.80, random_state=42)\n",
    "df1 = df_out.drop(df_train.index)\n",
    "df_val = df1.sample(frac=0.5, random_state=42)\n",
    "df2 = df1.drop(df_val.index)\n",
    "df_test = df2\n",
    "print('train:', df_train.shape, ', val:', df_val.shape, ', test:', df_test.shape)\n",
    "\n",
    "# DON'T re-save the data, if it is already saved!!\n",
    "# save to csv\n",
    "# df_train.to_csv('./data/q_cleaned_4b_train_set.csv', index=False)\n",
    "# df_val.to_csv('./data/q_cleaned_4b_val_set.csv', index=False)\n",
    "# df_test.to_csv('./data/q_cleaned_4b_test_set.csv', index=False)\n"
   ]
  },
  {
   "cell_type": "markdown",
   "metadata": {},
   "source": [
    "### Ensure that train and val sets show same qualitative bimodal shape like above"
   ]
  },
  {
   "cell_type": "code",
   "execution_count": null,
   "metadata": {},
   "outputs": [],
   "source": [
    "# Histogram of Kd values\n",
    "#\n",
    "kds_train = df_train['Kd'].to_list()\n",
    "kds_val = df_val['Kd'].to_list()\n",
    "kds_test = df_test['Kd'].to_list()\n",
    "\n",
    "fig, axs = plt.subplots(1, 3)\n",
    "fig.suptitle('Distribution of Kd values in scFv fragments')\n",
    "axs[0].hist(kds_train, bins=50)\n",
    "axs[0].set_title('Train Data')\n",
    "\n",
    "axs[1].hist(kds_val, bins=50)\n",
    "axs[1].set_title('Validation Data')\n",
    "\n",
    "axs[2].hist(kds_test, bins=50)\n",
    "axs[2].set_title('Test Data')\n",
    "\n",
    "for ax in axs.flat:\n",
    "    ax.set(xlabel='Kd log10 (nm)')\n",
    "\n",
    "\n"
   ]
  },
  {
   "cell_type": "markdown",
   "metadata": {},
   "source": [
    "----\n",
    "### The holdout dataset"
   ]
  },
  {
   "cell_type": "code",
   "execution_count": 3,
   "metadata": {},
   "outputs": [
    {
     "name": "stdout",
     "output_type": "stream",
     "text": [
      "holdout dataframe has 30071 rows\n",
      "['description_a', 'sequence_a', 'description_alpha', 'sequence_alpha']\n",
      "count                                                 30071\n",
      "unique                                                29971\n",
      "top       QVQLVQSGVEVKKPGASVKVSCKASGYTFTNYYMYWVRQAPGQGLE...\n",
      "freq                                                    101\n",
      "Name: sequence_a, dtype: object\n"
     ]
    }
   ],
   "source": [
    "# The holdout data\n",
    "data_file = './data/alphaseq_data_hold_out.csv'\n",
    "df = pd.read_csv(data_file)\n",
    "rows1 = df.shape[0]\n",
    "print('holdout dataframe has', rows1, 'rows')\n",
    "print(df.columns.tolist())\n",
    "print(df['sequence_a'].describe())"
   ]
  },
  {
   "cell_type": "code",
   "execution_count": 8,
   "metadata": {},
   "outputs": [
    {
     "name": "stdout",
     "output_type": "stream",
     "text": [
      "number of unique sequences: 29971\n"
     ]
    }
   ],
   "source": [
    "# Identify duplicate sequences \n",
    "#\n",
    "seqs = set() \n",
    "for index, row in df.iterrows():\n",
    "    seq = row['sequence_a']\n",
    "    seqs.add(seq)\n",
    "\n",
    "print('number of unique sequences:', len(seqs))\n",
    "\n",
    "\n",
    "# Get a sense of the frequency of variability in each aa position in the scFv sequences\n",
    "#\n",
    "aa_sets = [set() for i in range(247)]\n",
    "for s in seqs:\n",
    "    for i in range(len(s)):\n",
    "        aa_sets[i].add(s[i])\n",
    "\n",
    "counts = [len(x) for x in aa_sets] \n",
    "\n"
   ]
  },
  {
   "cell_type": "code",
   "execution_count": 9,
   "metadata": {},
   "outputs": [
    {
     "data": {
      "text/plain": [
       "Text(0.5, 1.0, 'Number of different aa residues found at each position')"
      ]
     },
     "execution_count": 9,
     "metadata": {},
     "output_type": "execute_result"
    },
    {
     "data": {
      "image/png": "[encoded data removed]",
      "text/plain": [
       "<Figure size 500x500 with 1 Axes>"
      ]
     },
     "metadata": {},
     "output_type": "display_data"
    }
   ],
   "source": [
    "\n",
    "plt.figure(figsize=(5,5))\n",
    "plt.plot(counts)\n",
    "plt.xlabel('position in sequence')\n",
    "plt.ylabel('count')\n",
    "plt.title('Number of different aa residues found at each position')\n",
    "# plt.xlim(20, 110)\n"
   ]
  },
  {
   "cell_type": "code",
   "execution_count": 15,
   "metadata": {},
   "outputs": [
    {
     "name": "stdout",
     "output_type": "stream",
     "text": [
      "mutations start at position 29 and end at position 109\n",
      "length of mutation region: 81\n",
      "min mutation frequency: tensor(0.)\n",
      "max mutation frequency: tensor(0.0006)\n"
     ]
    },
    {
     "data": {
      "text/plain": [
       "(0.0, 1.1)"
      ]
     },
     "execution_count": 15,
     "metadata": {},
     "output_type": "execute_result"
    },
    {
     "data": {
      "image/png": "[encoded data removed]",
      "text/plain": [
       "<Figure size 500x500 with 1 Axes>"
      ]
     },
     "metadata": {},
     "output_type": "display_data"
    }
   ],
   "source": [
    "counts = [len(x)-1 for x in aa_sets] # subtract 1 for the conserved residue.\n",
    "\n",
    "# find first index where counts is > 0\n",
    "firstIdx = next(x for x, val in enumerate(counts) if val > 0)\n",
    "# and when it drops to to less than 5 again\n",
    "lastIdx = firstIdx + next(x for x, val in enumerate(counts[firstIdx:]) if val <= 4)\n",
    "\n",
    "# Mutations occur in a CDR region\n",
    "print('mutations start at position', firstIdx, 'and end at position', lastIdx)\n",
    "print('length of mutation region:', lastIdx-firstIdx+1)\n",
    "\n",
    "# Absolute mutation frequency for each position in the aa sequence\n",
    "mut_freq = torch.tensor([i/len(seqs) for i in counts])\n",
    "print('min mutation frequency:', torch.min(mut_freq))\n",
    "print('max mutation frequency:', torch.max(mut_freq))\n",
    "\n",
    "# Normalize the relative mutation frequency [0,1]\n",
    "mut_freq = mut_freq/torch.max(mut_freq)\n",
    "\n",
    "plt.figure(figsize=(5,5))\n",
    "plt.plot(mut_freq)\n",
    "plt.xlabel('position in sequence')\n",
    "plt.ylabel('mutation frequency')\n",
    "plt.title('Normalized, relative variability at each position in the scFv sequences')\n",
    "plt.ylim(0, 1.1)"
   ]
  },
  {
   "cell_type": "code",
   "execution_count": null,
   "metadata": {},
   "outputs": [],
   "source": [
    "# Calc how many unique string lengths of sequence_a column there are\n",
    "s = set([len(k) for k in df['sequence_a']])\n",
    "print('Total number of different sequence lengths:', len(s), ', and they are', s, 'aa residues long')\n",
    "# get the count of each length\n",
    "df['sequence_a'].apply(len).value_counts()"
   ]
  },
  {
   "attachments": {
    "image.png": {
     "image/png": "[encoded data removed]"
    }
   },
   "cell_type": "markdown",
   "metadata": {},
   "source": [
    "----\n",
    "### Examine other data that may be added as input channels to Vision Transformer.\n",
    "\n",
    "![image.png](attachment:image.png)"
   ]
  },
  {
   "cell_type": "code",
   "execution_count": null,
   "metadata": {},
   "outputs": [],
   "source": [
    "# Classify the amino acids into their usual groups\n",
    "# polar, nonpolar, positively charged, negatively charged, or none (i.e. CLS, SEP, PAD)\n",
    "#\n",
    "# 20 naturally occuring amino acids in human proteins plus MASK token, \n",
    "# 'X' is a special token for unknown amino acids, and CLS token is for classification, and PAD for padding\n",
    "chars = ['CLS', 'A', 'C', 'D', 'E', 'F', 'G', 'H', 'I', 'K', 'L', 'M', 'N', 'P', 'Q', 'R', 'S', 'T', 'V', 'W', 'Y', 'X', 'MASK', 'PAD']\n",
    "groups= ['none', 'nonpolar', 'nonpolar', 'neg', 'neg', 'nonpolar', 'nonpolar', 'pos', 'nonpolar', 'pos', 'nonpolar', 'nonpolar', 'neg', \n",
    "         'nonpolar', 'neg', 'pos', 'polar', 'polar', 'nonpolar', 'nonpolar', 'polar', 'none', 'none', 'none']\n",
    "print('\\nvocabulary:', chars)\n",
    "\n",
    "stoi = { ch:i for i,ch in enumerate(chars) }\n",
    "itos = { i:ch for i,ch in enumerate(chars) }\n",
    "\n",
    "group_encodings = { 'none'    : int('00101000', base=2), \n",
    "                    'polar'   : int('00110011', base=2),\n",
    "                    'nonpolar': int('11001100', base=2), \n",
    "                    'pos'     : int('01010101', base=2),\n",
    "                    'neg'     : int('10101010', base=2)} \n",
    "\n",
    "print('group_encodings:', group_encodings)\n",
    "\n",
    "# maps amino acid to group                     \n",
    "s_to_grp = {ch:group_encodings[i] for ch,i in zip(chars, groups)} \n",
    "# maps encoded residue to group\n",
    "i_to_grp = {stoi[ch]:group_encodings[i] for ch,i in zip(chars, groups)} \n",
    "\n",
    "print('\\ns_to_grp:', s_to_grp)\n",
    "print('\\ni_to_grp:', i_to_grp)\n",
    "\n",
    "\n"
   ]
  },
  {
   "cell_type": "code",
   "execution_count": null,
   "metadata": {},
   "outputs": [],
   "source": [
    "import torch\n",
    "def _bin(x):\n",
    "    return format(x, '08b')\n",
    "\n",
    "def _make_img(x, shape=(48,48)):\n",
    "    d = ''.join([_bin(x[i]) for i in x.numpy()])\n",
    "    # turn d into a list of integers, one for each bit\n",
    "    d = [int(x) for x in d]    \n",
    "    t = torch.tensor(d[:(shape[0]*shape[1])], dtype=torch.float32) # this is for 46,46 matrix\n",
    "    t = t.reshape(shape)\n",
    "    # t = t.unsqueeze(0) # add channel dimension\n",
    "    return t\n"
   ]
  },
  {
   "cell_type": "code",
   "execution_count": null,
   "metadata": {},
   "outputs": [],
   "source": [
    "# Since the residue encodings are spread over 8-bits, assign encodings to groups that spread across the 8-bits\n",
    "\n",
    "none     = int('00101000', base=2)\n",
    "polar    = int('00110011', base=2)\n",
    "nonpolar = int('11001100', base=2)\n",
    "pos      = int('01010101', base=2)\n",
    "neg      = int('10101010', base=2)\n"
   ]
  },
  {
   "cell_type": "code",
   "execution_count": null,
   "metadata": {},
   "outputs": [],
   "source": [
    "aa_chunk = 'QVQLVQSGVEVKKPGASVKVSCKASGYTFTNYYMYWVRQAPGQGDEWMGGINPSNGGTNFNEKFKNRVTLTTDSSTTTAYMELKSLQFDDTAGYYCARRDYRFDMGFDYWGQGTTVTVSSGGGGSGGGGSGGGGSEIVLTQSPATLSLSPGERATLSCRASKGVSTSGYSYLHWYQQKPGQAPRLLIYLASYLESGVPARFSGSGSGTDFTLTISSLEPEDFAVYYCQHSRDLPLTFGGGTKVEIK'\n",
    "print('length of aa_chunk:', len(aa_chunk))"
   ]
  },
  {
   "cell_type": "code",
   "execution_count": null,
   "metadata": {},
   "outputs": [],
   "source": []
  },
  {
   "cell_type": "code",
   "execution_count": null,
   "metadata": {},
   "outputs": [],
   "source": []
  }
 ],
 "metadata": {
  "kernelspec": {
   "display_name": "avm-dvm",
   "language": "python",
   "name": "python3"
  },
  "language_info": {
   "codemirror_mode": {
    "name": "ipython",
    "version": 3
   },
   "file_extension": ".py",
   "mimetype": "text/x-python",
   "name": "python",
   "nbconvert_exporter": "python",
   "pygments_lexer": "ipython3",
   "version": "3.9.18"
  }
 },
 "nbformat": 4,
 "nbformat_minor": 2
}
