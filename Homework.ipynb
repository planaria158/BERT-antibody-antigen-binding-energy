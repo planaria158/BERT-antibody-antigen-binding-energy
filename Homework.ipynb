{
 "cells": [
  {
   "cell_type": "markdown",
   "metadata": {},
   "source": [
    "## a-AlphaBio homework problem\n",
    "### Mark Thompson\n",
    "### Started April 29, 2024 "
   ]
  },
  {
   "cell_type": "markdown",
   "metadata": {},
   "source": [
    "#### scFv single-chain fragments of Pembrolizumab; which targets the programmed cell death protein 1 (PD-1) receptor of lymphocytes."
   ]
  },
  {
   "cell_type": "markdown",
   "metadata": {},
   "source": [
    "---------------\n",
    "## TODO:\n",
    "* <span style=\"color:red\">Examine possible use of sequence_alpha?? (there is only 1 unique sequence here though).</span>\n",
    "\n",
    "* <span style=\"color:red\">Make sure Kd, Kd_lower_bound ,Kd_upper_bound properly ordered</span>\n",
    "* <span style=\"color:red\">Examine: q_value: The false discovery rate of the Kd measurement, relative to negative controls</span>\n",
    "* <span style=\"color:red\">Try linear Attention module with mixed-precision to crank-up the layers, heads, etc</span>\n",
    "* <span style=\"color:red\">Don't forget to save checkpoints based on val_loss (not loss)</span>\n",
    "* <span style=\"color:red\">Make sure scFv_dataset is putting out the correct sequences (wrt special tokens), i.e. no PAD needed </span>\n"
   ]
  },
  {
   "attachments": {
    "image-2.png": {
     "image/png": "[encoded data removed]"
    }
   },
   "cell_type": "markdown",
   "metadata": {},
   "source": [
    "-----------\n",
    "## Dataset 1 summary (from below analysis)\n",
    "* 29199 unique aa sequences for scFv (split 90/10 train/val)\n",
    "* all Kd values > 0 (no NANs)\n",
    "* all sequences are same length: 246 residues\n",
    "\n",
    "\n",
    "![image-2.png](attachment:image-2.png)\n",
    "\n",
    "-----------"
   ]
  },
  {
   "cell_type": "code",
   "execution_count": null,
   "metadata": {},
   "outputs": [],
   "source": [
    "%load_ext autoreload"
   ]
  },
  {
   "cell_type": "code",
   "execution_count": null,
   "metadata": {},
   "outputs": [],
   "source": [
    "%autoreload\n",
    "# import libraries\n",
    "import numpy as np\n",
    "import pickle as pk\n",
    "import pandas as pd\n",
    "import math\n",
    "import os"
   ]
  },
  {
   "cell_type": "markdown",
   "metadata": {},
   "source": [
    "----\n",
    "### Data set analysis\n",
    "* remove rows with NAN for Kd (note: NAN may indicate a non-binding or very very poor binding event. I could impute a very high value for Kd for these cases.  I will ignore them in this first pass)\n",
    "\n",
    "* also check for any Kd values < 0 (there were some in the dataset from the Nature paper)\n",
    "* identify duplicate sequences and accumulate Kd values for these.\n",
    "* for duplicates, take the Kd value as the mean of the Kd values over the duplicate sequences.  Caveat: eyeball these first to ensure the Kd values are NOT widely spread in value."
   ]
  },
  {
   "cell_type": "code",
   "execution_count": null,
   "metadata": {},
   "outputs": [],
   "source": [
    "data_file = './alphaseq_data_train.csv'\n",
    "df = pd.read_csv(data_file)\n",
    "rows1 = df.shape[0]\n",
    "print('starting dataframe has', rows1, 'rows')\n",
    "print(df.columns.tolist())"
   ]
  },
  {
   "cell_type": "code",
   "execution_count": null,
   "metadata": {},
   "outputs": [],
   "source": [
    "# Remove Kd nans\n",
    "#\n",
    "df = df.dropna(subset=['Kd'])\n",
    "rows2 = df.shape[0]\n",
    "print('after removing nans, dataframe has', rows2, 'rows; (there were', rows1-rows2, 'rows with Kd=nan)')"
   ]
  },
  {
   "cell_type": "code",
   "execution_count": null,
   "metadata": {},
   "outputs": [],
   "source": [
    "# Remove Kd vals that are negative\n",
    "#\n",
    "num_negatives = (df[df['Kd'] > 0]).shape[0] - rows2\n",
    "print('There are', num_negatives, 'Kd values < 0')"
   ]
  },
  {
   "cell_type": "code",
   "execution_count": null,
   "metadata": {},
   "outputs": [],
   "source": [
    "# Identify duplicate sequences and process their multiple Kd values\n",
    "#\n",
    "seqs = {} # will contain a list for binding energies for each unique sequence\n",
    "for index, row in df.iterrows():\n",
    "    seq = row['sequence_a']\n",
    "    affinity = row['Kd']\n",
    "    if seq not in seqs:\n",
    "        seqs[seq] = list()\n",
    "        seqs[seq].append(affinity)\n",
    "    else:\n",
    "        seqs[seq].append(affinity)\n",
    "\n",
    "print('Number of unique sequences:', len(seqs))\n",
    "print('First few entries')\n",
    "for i, (k, v) in enumerate(seqs.items()):\n",
    "    assert len(v) > 0, 'empty set for sequence'\n",
    "    print(i, ':', 'num values:', len(v), ', values:', v)\n",
    "    if i > 2:\n",
    "        break"
   ]
  },
  {
   "cell_type": "code",
   "execution_count": null,
   "metadata": {},
   "outputs": [],
   "source": [
    "# Calc the mean Kd for all unique sequences:\n",
    "# calc the mean of the binding affinities for each sequence\n",
    "seqs_mean_Kd = {}\n",
    "for k,v in seqs.items():\n",
    "    seqs_mean_Kd[k] = np.mean(v)\n",
    "\n",
    "# Is there a distribution of lengths for scFv ?\n",
    "s = set([len(k) for k,v in seqs_mean_Kd.items()])\n",
    "print('Total number of sequence lengths:', len(s), ', and it is', s, 'aa long')"
   ]
  },
  {
   "cell_type": "code",
   "execution_count": null,
   "metadata": {},
   "outputs": [],
   "source": [
    "# Histogram of Kd values\n",
    "#\n",
    "kds = [v for k,v in seqs_mean_Kd.items()]\n",
    "plt.hist(kds, bins=20)\n",
    "plt.xlabel('Kd (nm)')\n",
    "plt.ylabel('count')\n",
    "plt.title('Distribution of Kd values in scFv fragments')\n",
    "plt.show()\n",
    "\n",
    "# Interesting that it appears somewhat bi-modal"
   ]
  },
  {
   "cell_type": "markdown",
   "metadata": {},
   "source": [
    "### Create train/val split  (90/10)"
   ]
  },
  {
   "cell_type": "code",
   "execution_count": null,
   "metadata": {},
   "outputs": [],
   "source": [
    "# Create the train and test sets and save as csv files\n",
    "seqs = [k for k,v in seqs_mean_Kd.items()]\n",
    "kds  = [v for k,v in seqs_mean_Kd.items()]\n",
    "\n",
    "df_out = pd.DataFrame({'sequence_a': seqs, 'Kd': kds})\n",
    "\n",
    "# Train/val split 90/10\n",
    "df_train = df_out.sample(frac=0.9, random_state=42)\n",
    "df_val = df_out.drop(df_train.index)\n",
    "print('train:', df_train.shape, ', val:', df_val.shape)\n",
    "\n",
    "# save to csv\n",
    "df_train.to_csv('./data/train_set.csv', index=False)\n",
    "df_val.to_csv('./data/val_set.csv', index=False)\n"
   ]
  },
  {
   "cell_type": "markdown",
   "metadata": {},
   "source": [
    "### Ensure that train and val sets show same qualitative bimodal shape like above"
   ]
  },
  {
   "cell_type": "code",
   "execution_count": null,
   "metadata": {},
   "outputs": [],
   "source": [
    "# Histogram of Kd values\n",
    "#\n",
    "kds_train = df_train['Kd'].to_list()\n",
    "kds_val = df_val['Kd'].to_list()\n",
    "\n",
    "fig, axs = plt.subplots(1, 2)\n",
    "fig.suptitle('Distribution of Kd values in scFv fragments')\n",
    "axs[0].hist(kds_train, bins=20)\n",
    "axs[0].set_title('Train Data')\n",
    "\n",
    "axs[1].hist(kds_val, bins=20)\n",
    "axs[1].set_title('Validation Data')\n",
    "\n",
    "for ax in axs.flat:\n",
    "    ax.set(xlabel='Kd (nm)')\n",
    "\n",
    "\n"
   ]
  },
  {
   "cell_type": "code",
   "execution_count": null,
   "metadata": {},
   "outputs": [],
   "source": []
  },
  {
   "cell_type": "code",
   "execution_count": null,
   "metadata": {},
   "outputs": [],
   "source": []
  },
  {
   "cell_type": "code",
   "execution_count": null,
   "metadata": {},
   "outputs": [],
   "source": []
  }
 ],
 "metadata": {
  "kernelspec": {
   "display_name": "avm-dvm",
   "language": "python",
   "name": "python3"
  },
  "language_info": {
   "codemirror_mode": {
    "name": "ipython",
    "version": 3
   },
   "file_extension": ".py",
   "mimetype": "text/x-python",
   "name": "python",
   "nbconvert_exporter": "python",
   "pygments_lexer": "ipython3",
   "version": "3.9.18"
  }
 },
 "nbformat": 4,
 "nbformat_minor": 2
}
