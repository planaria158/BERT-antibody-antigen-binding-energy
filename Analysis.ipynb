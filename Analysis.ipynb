{
 "cells": [
  {
   "cell_type": "markdown",
   "metadata": {},
   "source": [
    "## a-AlphaBio homework \n",
    "### Mark Thompson\n",
    "### Started April 29, 2024 "
   ]
  },
  {
   "cell_type": "code",
   "execution_count": null,
   "metadata": {},
   "outputs": [],
   "source": [
    "%load_ext autoreload"
   ]
  },
  {
   "cell_type": "code",
   "execution_count": null,
   "metadata": {},
   "outputs": [],
   "source": [
    "%autoreload\n",
    "# import libraries\n",
    "import numpy as np\n",
    "import pickle as pk\n",
    "import pandas as pd\n",
    "import math\n",
    "import os\n",
    "import matplotlib.pyplot as plt\n",
    "%matplotlib inline\n"
   ]
  },
  {
   "cell_type": "code",
   "execution_count": null,
   "metadata": {},
   "outputs": [],
   "source": [
    "import torch\n",
    "import torch.nn as nn\n",
    "\n",
    "# Some plotting functions\n",
    "#\n",
    "def plot_preds_hist(preds_file_path):\n",
    "    preds = pk.load(open(preds_file_path, 'rb'))\n",
    "    print('len(preds):', len(preds))\n",
    "    preds = [p[0] for p in preds]\n",
    "    print('preds[0:10]:', preds[0:10])\n",
    "\n",
    "    # Histogram of predicted values\n",
    "    plt.hist(preds, bins=100)\n",
    "    plt.xlabel('pred Kd (nm)')\n",
    "    plt.ylabel('count')\n",
    "    plt.title('Distribution of pred values set')\n",
    "    plt.show()\n",
    "\n",
    "\n",
    "def plot_pred_vs_true(preds_file_path, true_file_path, xlim=(0,5), ylim=(0,5)):\n",
    "    preds = pk.load(open(preds_file_path, 'rb'))\n",
    "    y = pk.load(open(true_file_path, 'rb'))\n",
    "    print('len(preds):', len(preds), ', len(y):', len(y))\n",
    "    preds = [p[0] for p in preds]\n",
    "    y = [a[0] for a in y]\n",
    "\n",
    "    # scatter plot of true vs pred\n",
    "    plt.scatter(y, preds, c =\"blue\")\n",
    "    plt.xlabel('experimental Kd (nm)')\n",
    "    plt.ylabel('predicted Kd (nm)')\n",
    "    plt.title('true vs predicted Kd on validation set')\n",
    "    plt.xlim(xlim)\n",
    "    plt.ylim(ylim)\n",
    "    plt.show()\n",
    "\n"
   ]
  },
  {
   "cell_type": "markdown",
   "metadata": {},
   "source": [
    "---------\n",
    "## Holdout dataset and predictions"
   ]
  },
  {
   "cell_type": "code",
   "execution_count": null,
   "metadata": {},
   "outputs": [],
   "source": [
    "# The holdout data\n",
    "data_file = './data/alphaseq_data_hold_out.csv'\n",
    "df = pd.read_csv(data_file)\n",
    "rows1 = df.shape[0]\n",
    "print('holdout dataframe has', rows1, 'rows')\n",
    "print(df.columns.tolist())\n",
    "print(df['sequence_a'].describe())"
   ]
  },
  {
   "cell_type": "code",
   "execution_count": null,
   "metadata": {},
   "outputs": [],
   "source": [
    "# The predictions on the holdout set\n",
    "\n",
    "# tform_mlp version 1 predictions\n",
    "data_file = './inference_results/tform_mlp_model/cleaned-4-data/preds_tform_mlp_1715104590.5575511.csv'\n",
    "df = pd.read_csv(data_file)\n",
    "rows1 = df.shape[0]\n",
    "print('holdout predictions has', rows1, 'rows')\n",
    "print(df.columns.tolist())\n",
    "print(df.describe())\n",
    "preds = df['pred_Kd'].values\n",
    "\n",
    "# tform_mlp_v2 version 2 predictions\n",
    "data_file = './inference_results/tform_mlp_model_v2/addendum/cleaned-4b-data/preds_tform_mlp_1715280172.2843447.csv'\n",
    "df = pd.read_csv(data_file)\n",
    "rows1 = df.shape[0]\n",
    "print('holdout predictions has', rows1, 'rows')\n",
    "print(df.columns.tolist())\n",
    "print(df.describe())\n",
    "preds_v2 = df['pred_Kd'].values\n",
    "\n",
    "\n",
    "# Histogram of predicted values\n",
    "# plt.figure(figsize=(6,6))\n",
    "# plt.hist(preds, bins=100)\n",
    "plt.hist(preds, bins=100, alpha=1.0, label='Transformer v1', color='b')\n",
    "plt.hist(preds_v2, bins=100, alpha=1.0, label='Transformer v2', color='r')\n",
    "plt.legend(loc='upper left')\n",
    "\n",
    "plt.xlabel('pred Kd (nm)')\n",
    "plt.ylabel('count')\n",
    "plt.title('Distribution of pred Kd values on the holdout set')\n",
    "plt.xlim((-1,5))\n",
    "# plt.ylim((0,5))\n",
    "plt.show()\n"
   ]
  },
  {
   "cell_type": "markdown",
   "metadata": {},
   "source": [
    "----\n",
    "## alphaseq_data_train dataset  (not cleaned)"
   ]
  },
  {
   "cell_type": "code",
   "execution_count": null,
   "metadata": {},
   "outputs": [],
   "source": [
    "# The predictions on the holdout set\n",
    "data_file = './data/alphaseq_data_train.csv'\n",
    "df = pd.read_csv(data_file)\n",
    "rows1 = df.shape[0]\n",
    "print('dataset has', rows1, 'rows')\n",
    "print(df.columns.tolist())\n",
    "print(df.describe())\n",
    "\n",
    "raw_Kds = df['Kd'].values\n",
    "\n",
    "# Histogram of Kd values\n",
    "plt.figure(figsize=(3,3))\n",
    "plt.hist(raw_Kds, bins=100)\n",
    "plt.xlabel('Experimental Kd (nm)')\n",
    "plt.ylabel('count')\n",
    "plt.title('Distribution of Kd values in the raw training data set')\n",
    "plt.xlim((-1,5))\n",
    "plt.show()\n"
   ]
  },
  {
   "cell_type": "markdown",
   "metadata": {},
   "source": [
    "----\n",
    "## Kd distribution for clean-4 dataset train only"
   ]
  },
  {
   "cell_type": "code",
   "execution_count": null,
   "metadata": {},
   "outputs": [],
   "source": [
    "# The predictions on the holdout set\n",
    "# data_file = './data/q_cleaned_4_train_set.csv'\n",
    "data_file = './data/q_cleaned_4b_train_set.csv'\n",
    "df = pd.read_csv(data_file)\n",
    "rows1 = df.shape[0]\n",
    "print('dataset has', rows1, 'rows')\n",
    "print(df.columns.tolist())\n",
    "print(df.describe())\n",
    "\n",
    "clean4_Kds = df['Kd'].values\n",
    "\n",
    "# Histogram of Kd values\n",
    "# plt.figure(figsize=(3,3))\n",
    "# plt.hist(clean4_Kds, bins=100)\n",
    "# plt.hist(raw_Kds, bins=100)\n",
    "plt.hist(raw_Kds, bins=100, alpha=1.0, label='raw data', color='b')\n",
    "plt.hist(clean4_Kds, bins=100, alpha=1.0, label='clean-4 data', color='r')\n",
    "plt.legend(loc='upper left')\n",
    "plt.xlabel('Experimental Kd (nm)')\n",
    "plt.ylabel('count')\n",
    "plt.title('Distribution of experimental Kd values')\n",
    "plt.xlim((-1,5))\n",
    "plt.show()\n"
   ]
  },
  {
   "cell_type": "markdown",
   "metadata": {},
   "source": [
    "----\n",
    "### MLP model  Clean-3b dataset"
   ]
  },
  {
   "cell_type": "code",
   "execution_count": null,
   "metadata": {},
   "outputs": [],
   "source": [
    "pred_file_path = ''\n",
    "plot_preds_hist(pred_file_path)"
   ]
  },
  {
   "cell_type": "code",
   "execution_count": null,
   "metadata": {},
   "outputs": [],
   "source": [
    "pred_file_path = './inference_results/mlp_model/cleaned-3/test_no_cls_token/preds_mlp_1714982629.5918856.pkl'\n",
    "true_file_path = './inference_results/mlp_model/cleaned-3/test_no_cls_token/y_mlp_1714982629.5921109.pkl'\n",
    "plot_pred_vs_true(pred_file_path, true_file_path, xlim=(0,3.5), ylim=(0,3.5))"
   ]
  },
  {
   "cell_type": "code",
   "execution_count": null,
   "metadata": {},
   "outputs": [],
   "source": [
    "# Pearson Correlation Coefficient\n",
    "#\n",
    "pred_file_path = '/Users/markthompson/Documents/dev/a-alphaBio-homework/test_results/mlp_model/cleaned-3b-data/preds_mlp_1715105115.4793816.pkl'\n",
    "true_file_path = '/Users/markthompson/Documents/dev/a-alphaBio-homework/test_results/mlp_model/cleaned-3b-data/y_mlp_1715105115.4793816.pkl'\n",
    "\n",
    "pred = torch.tensor(pk.load(open(pred_file_path, 'rb'))).squeeze()\n",
    "true = torch.tensor(pk.load(open(true_file_path, 'rb'))).squeeze()\n",
    "\n",
    "print(pred.shape)\n",
    "print(true.shape)\n",
    "\n",
    "c = torch.stack((pred, true), dim=0)\n",
    "print(c.shape)\n",
    "\n",
    "p = torch.corrcoef(c)\n",
    "print(p)\n"
   ]
  },
  {
   "cell_type": "markdown",
   "metadata": {},
   "source": [
    "-------\n",
    "### Vision Transform Model (VIT)  1-channel Clean-3b Dataset"
   ]
  },
  {
   "cell_type": "code",
   "execution_count": null,
   "metadata": {},
   "outputs": [],
   "source": [
    "pred_file_path = ''\n",
    "plot_preds_hist(pred_file_path)"
   ]
  },
  {
   "cell_type": "code",
   "execution_count": null,
   "metadata": {},
   "outputs": [],
   "source": [
    "# Inference on the validation set to compare actual with predicted values\n",
    "pred_file_path = './inference_results/vit_model/cleaned-3b/BW/test_no_cls_token/preds_vit_1715016846.793841.pkl'\n",
    "true_file_path = './inference_results/vit_model/cleaned-3b/BW/test_no_cls_token/y_vit_1715016846.7940617.pkl'\n",
    "plot_pred_vs_true(pred_file_path, true_file_path, xlim=(0,3.5), ylim=(0,3.5))"
   ]
  },
  {
   "cell_type": "code",
   "execution_count": null,
   "metadata": {},
   "outputs": [],
   "source": [
    "# Pearson Correlation Coefficient\n",
    "#\n",
    "pred_file_path = '/Users/markthompson/Documents/dev/a-alphaBio-homework/test_results/vit_model/cleaned-3b-data/1-channel/preds_vit_1715105283.6443539.pkl'\n",
    "true_file_path = '/Users/markthompson/Documents/dev/a-alphaBio-homework/test_results/vit_model/cleaned-3b-data/1-channel/y_vit_1715105283.6443539.pkl'\n",
    "\n",
    "pred = torch.tensor(pk.load(open(pred_file_path, 'rb'))).squeeze()\n",
    "true = torch.tensor(pk.load(open(true_file_path, 'rb'))).squeeze()\n",
    "\n",
    "print(pred.shape)\n",
    "print(true.shape)\n",
    "\n",
    "c = torch.stack((pred, true), dim=0)\n",
    "print(c.shape)\n",
    "\n",
    "p = torch.corrcoef(c)\n",
    "print(p)\n"
   ]
  },
  {
   "cell_type": "markdown",
   "metadata": {},
   "source": [
    "----\n",
    "### Vision Transform Model (VIT)  3-channel, Clean-3b Dataset"
   ]
  },
  {
   "cell_type": "code",
   "execution_count": null,
   "metadata": {},
   "outputs": [],
   "source": [
    "# Inference on the validation set to compare actual with predicted values\n",
    "pred_file_path = './inference_results/vit_model/cleaned-3b/BGR/test_no_cls_token/preds_vit_1715020986.6452327.pkl'\n",
    "true_file_path = './inference_results/vit_model/cleaned-3b/BGR/test_no_cls_token/y_vit_1715020986.6455376.pkl'\n",
    "plot_pred_vs_true(pred_file_path, true_file_path, xlim=(0,3.5), ylim=(0,3.5))"
   ]
  },
  {
   "cell_type": "code",
   "execution_count": null,
   "metadata": {},
   "outputs": [],
   "source": [
    "# Pearson Correlation Coefficient\n",
    "#\n",
    "pred_file_path = '/Users/markthompson/Documents/dev/a-alphaBio-homework/test_results/vit_model/cleaned-3b-data/3-channel/preds_vit_1715105421.8529866.pkl'\n",
    "true_file_path = '/Users/markthompson/Documents/dev/a-alphaBio-homework/test_results/vit_model/cleaned-3b-data/3-channel/y_vit_1715105421.8529866.pkl'\n",
    "\n",
    "pred = torch.tensor(pk.load(open(pred_file_path, 'rb'))).squeeze()\n",
    "true = torch.tensor(pk.load(open(true_file_path, 'rb'))).squeeze()\n",
    "\n",
    "print(pred.shape)\n",
    "print(true.shape)\n",
    "\n",
    "c = torch.stack((pred, true), dim=0)\n",
    "print(c.shape)\n",
    "\n",
    "p = torch.corrcoef(c)\n",
    "print(p)\n"
   ]
  },
  {
   "cell_type": "markdown",
   "metadata": {},
   "source": [
    "----\n",
    "### TFormMLP Clean-4 Dataset "
   ]
  },
  {
   "cell_type": "code",
   "execution_count": null,
   "metadata": {},
   "outputs": [],
   "source": [
    "pred_file_path = './test_results/tform_mlp_model/cleaned-4-data/preds_tform_mlp_1715105469.0702462.pkl'\n",
    "true_file_path = './test_results/tform_mlp_model/cleaned-4-data/y_tform_mlp_1715105469.0702462.pkl'\n",
    "plot_pred_vs_true(pred_file_path, true_file_path, xlim=(0,3.5), ylim=(0,3.5))"
   ]
  },
  {
   "cell_type": "code",
   "execution_count": null,
   "metadata": {},
   "outputs": [],
   "source": [
    "# Pearson Correlation Coefficient\n",
    "#\n",
    "pred_file_path = '/Users/markthompson/Documents/dev/a-alphaBio-homework/test_results/tform_mlp_model/cleaned-4-data/preds_tform_mlp_1715105469.0702462.pkl'\n",
    "true_file_path = '/Users/markthompson/Documents/dev/a-alphaBio-homework/test_results/tform_mlp_model/cleaned-4-data/y_tform_mlp_1715105469.0702462.pkl'\n",
    "\n",
    "pred = torch.tensor(pk.load(open(pred_file_path, 'rb'))).squeeze()\n",
    "true = torch.tensor(pk.load(open(true_file_path, 'rb'))).squeeze()\n",
    "\n",
    "print(pred.shape)\n",
    "print(true.shape)\n",
    "\n",
    "c = torch.stack((pred, true), dim=0)\n",
    "print(c.shape)\n",
    "\n",
    "p = torch.corrcoef(c)\n",
    "print(p)\n"
   ]
  },
  {
   "cell_type": "markdown",
   "metadata": {},
   "source": [
    "----\n",
    "### TFormMLP Clean-4 Dataset:  pretrained, then fine-tuned"
   ]
  },
  {
   "cell_type": "code",
   "execution_count": null,
   "metadata": {},
   "outputs": [],
   "source": [
    "pred_file_path = './test_results/tform_mlp_model/finetune/cleaned-4b-data/preds_tform_mlp_1715572603.424339.pkl'\n",
    "true_file_path = './test_results/tform_mlp_model/finetune/cleaned-4b-data/y_tform_mlp_1715572603.424339.pkl'\n",
    "plot_pred_vs_true(pred_file_path, true_file_path, xlim=(-1.0, 0.5), ylim=(-0.2,0))\n",
    "\n",
    "a = pk.load(open(pred_file_path, 'rb'))\n",
    "print(a)"
   ]
  },
  {
   "cell_type": "code",
   "execution_count": null,
   "metadata": {},
   "outputs": [],
   "source": []
  },
  {
   "cell_type": "code",
   "execution_count": null,
   "metadata": {},
   "outputs": [],
   "source": []
  },
  {
   "cell_type": "code",
   "execution_count": null,
   "metadata": {},
   "outputs": [],
   "source": []
  }
 ],
 "metadata": {
  "kernelspec": {
   "display_name": "avm-dvm",
   "language": "python",
   "name": "python3"
  },
  "language_info": {
   "codemirror_mode": {
    "name": "ipython",
    "version": 3
   },
   "file_extension": ".py",
   "mimetype": "text/x-python",
   "name": "python",
   "nbconvert_exporter": "python",
   "pygments_lexer": "ipython3",
   "version": "3.9.5"
  }
 },
 "nbformat": 4,
 "nbformat_minor": 2
}
