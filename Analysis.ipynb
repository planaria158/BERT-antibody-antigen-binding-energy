{
 "cells": [
  {
   "cell_type": "markdown",
   "metadata": {},
   "source": [
    "## a-AlphaBio homework \n",
    "### Mark Thompson\n",
    "### Started April 29, 2024 "
   ]
  },
  {
   "cell_type": "code",
   "execution_count": 1,
   "metadata": {},
   "outputs": [],
   "source": [
    "%load_ext autoreload"
   ]
  },
  {
   "cell_type": "code",
   "execution_count": 2,
   "metadata": {},
   "outputs": [],
   "source": [
    "%autoreload\n",
    "# import libraries\n",
    "import numpy as np\n",
    "import pickle as pk\n",
    "import pandas as pd\n",
    "import math\n",
    "import os\n",
    "import matplotlib.pyplot as plt\n",
    "%matplotlib inline\n"
   ]
  },
  {
   "cell_type": "code",
   "execution_count": 3,
   "metadata": {},
   "outputs": [],
   "source": [
    "import torch\n",
    "import torch.nn as nn\n",
    "\n",
    "# Some plotting functions\n",
    "#\n",
    "def plot_preds_hist(preds_file_path):\n",
    "    preds = pk.load(open(preds_file_path, 'rb'))\n",
    "    print('len(preds):', len(preds))\n",
    "    preds = [p[0] for p in preds]\n",
    "    print('preds[0:10]:', preds[0:10])\n",
    "\n",
    "    # Histogram of predicted values\n",
    "    plt.hist(preds, bins=100)\n",
    "    plt.xlabel('pred Kd (nm)')\n",
    "    plt.ylabel('count')\n",
    "    plt.title('Distribution of pred values set')\n",
    "    plt.show()\n",
    "\n",
    "\n",
    "def plot_pred_vs_true(preds_file_path, true_file_path, xlim=(0,5), ylim=(0,5)):\n",
    "    preds = pk.load(open(preds_file_path, 'rb'))\n",
    "    y = pk.load(open(true_file_path, 'rb'))\n",
    "    print('len(preds):', len(preds), ', len(y):', len(y))\n",
    "    preds = [p[0] for p in preds]\n",
    "    y = [a[0] for a in y]\n",
    "\n",
    "    # scatter plot of true vs pred\n",
    "    plt.scatter(y, preds, c =\"blue\")\n",
    "    plt.xlabel('experimental Kd (nm)')\n",
    "    plt.ylabel('predicted Kd (nm)')\n",
    "    plt.title('true vs predicted Kd on validation set')\n",
    "    plt.xlim(xlim)\n",
    "    plt.ylim(ylim)\n",
    "    plt.show()\n",
    "\n"
   ]
  },
  {
   "cell_type": "markdown",
   "metadata": {},
   "source": [
    "---------\n",
    "## Holdout dataset and predictions"
   ]
  },
  {
   "cell_type": "code",
   "execution_count": null,
   "metadata": {},
   "outputs": [],
   "source": [
    "# The holdout data\n",
    "data_file = './data/alphaseq_data_hold_out.csv'\n",
    "df = pd.read_csv(data_file)\n",
    "rows1 = df.shape[0]\n",
    "print('holdout dataframe has', rows1, 'rows')\n",
    "print(df.columns.tolist())\n",
    "print(df['sequence_a'].describe())"
   ]
  },
  {
   "cell_type": "code",
   "execution_count": null,
   "metadata": {},
   "outputs": [],
   "source": [
    "# The predictions on the holdout set\n",
    "\n",
    "# tform_mlp version 1 predictions\n",
    "data_file = './inference_results/tform_mlp_model/cleaned-4-data/preds_tform_mlp_1715104590.5575511.csv'\n",
    "df = pd.read_csv(data_file)\n",
    "rows1 = df.shape[0]\n",
    "print('holdout predictions has', rows1, 'rows')\n",
    "print(df.columns.tolist())\n",
    "print(df.describe())\n",
    "preds = df['pred_Kd'].values\n",
    "\n",
    "# tform_mlp_v2 version 2 predictions\n",
    "data_file = './inference_results/tform_mlp_model_v2/addendum/cleaned-4b-data/preds_tform_mlp_1715280172.2843447.csv'\n",
    "df = pd.read_csv(data_file)\n",
    "rows1 = df.shape[0]\n",
    "print('holdout predictions has', rows1, 'rows')\n",
    "print(df.columns.tolist())\n",
    "print(df.describe())\n",
    "preds_v2 = df['pred_Kd'].values\n",
    "\n",
    "\n",
    "# Histogram of predicted values\n",
    "# plt.figure(figsize=(6,6))\n",
    "# plt.hist(preds, bins=100)\n",
    "plt.hist(preds, bins=100, alpha=1.0, label='Transformer v1', color='b')\n",
    "plt.hist(preds_v2, bins=100, alpha=1.0, label='Transformer v2', color='r')\n",
    "plt.legend(loc='upper left')\n",
    "\n",
    "plt.xlabel('pred Kd (nm)')\n",
    "plt.ylabel('count')\n",
    "plt.title('Distribution of pred Kd values on the holdout set')\n",
    "plt.xlim((-1,5))\n",
    "# plt.ylim((0,5))\n",
    "plt.show()\n"
   ]
  },
  {
   "cell_type": "markdown",
   "metadata": {},
   "source": [
    "----\n",
    "## alphaseq_data_train dataset  (not cleaned)"
   ]
  },
  {
   "cell_type": "code",
   "execution_count": null,
   "metadata": {},
   "outputs": [],
   "source": [
    "# The predictions on the holdout set\n",
    "data_file = './data/alphaseq_data_train.csv'\n",
    "df = pd.read_csv(data_file)\n",
    "rows1 = df.shape[0]\n",
    "print('dataset has', rows1, 'rows')\n",
    "print(df.columns.tolist())\n",
    "print(df.describe())\n",
    "\n",
    "raw_Kds = df['Kd'].values\n",
    "\n",
    "# Histogram of Kd values\n",
    "plt.figure(figsize=(3,3))\n",
    "plt.hist(raw_Kds, bins=100)\n",
    "plt.xlabel('Experimental Kd (nm)')\n",
    "plt.ylabel('count')\n",
    "plt.title('Distribution of Kd values in the raw training data set')\n",
    "plt.xlim((-1,5))\n",
    "plt.show()\n"
   ]
  },
  {
   "cell_type": "markdown",
   "metadata": {},
   "source": [
    "----\n",
    "## Kd distribution for clean-4 dataset train only"
   ]
  },
  {
   "cell_type": "code",
   "execution_count": null,
   "metadata": {},
   "outputs": [],
   "source": [
    "# The predictions on the holdout set\n",
    "# data_file = './data/q_cleaned_4_train_set.csv'\n",
    "data_file = './data/q_cleaned_4b_train_set.csv'\n",
    "df = pd.read_csv(data_file)\n",
    "rows1 = df.shape[0]\n",
    "print('dataset has', rows1, 'rows')\n",
    "print(df.columns.tolist())\n",
    "print(df.describe())\n",
    "\n",
    "clean4_Kds = df['Kd'].values\n",
    "\n",
    "# Histogram of Kd values\n",
    "# plt.figure(figsize=(3,3))\n",
    "# plt.hist(clean4_Kds, bins=100)\n",
    "# plt.hist(raw_Kds, bins=100)\n",
    "plt.hist(raw_Kds, bins=100, alpha=1.0, label='raw data', color='b')\n",
    "plt.hist(clean4_Kds, bins=100, alpha=1.0, label='clean-4 data', color='r')\n",
    "plt.legend(loc='upper left')\n",
    "plt.xlabel('Experimental Kd (nm)')\n",
    "plt.ylabel('count')\n",
    "plt.title('Distribution of experimental Kd values')\n",
    "plt.xlim((-1,5))\n",
    "plt.show()\n"
   ]
  },
  {
   "cell_type": "markdown",
   "metadata": {},
   "source": [
    "----\n",
    "### MLP model  Clean-3b dataset"
   ]
  },
  {
   "cell_type": "code",
   "execution_count": null,
   "metadata": {},
   "outputs": [],
   "source": [
    "pred_file_path = ''\n",
    "plot_preds_hist(pred_file_path)"
   ]
  },
  {
   "cell_type": "code",
   "execution_count": null,
   "metadata": {},
   "outputs": [],
   "source": [
    "pred_file_path = './inference_results/mlp_model/cleaned-3/test_no_cls_token/preds_mlp_1714982629.5918856.pkl'\n",
    "true_file_path = './inference_results/mlp_model/cleaned-3/test_no_cls_token/y_mlp_1714982629.5921109.pkl'\n",
    "plot_pred_vs_true(pred_file_path, true_file_path, xlim=(0,3.5), ylim=(0,3.5))"
   ]
  },
  {
   "cell_type": "markdown",
   "metadata": {},
   "source": [
    "-------\n",
    "### Vision Transform Model (VIT)  1-channel Clean-3b Dataset"
   ]
  },
  {
   "cell_type": "code",
   "execution_count": null,
   "metadata": {},
   "outputs": [],
   "source": [
    "pred_file_path = ''\n",
    "plot_preds_hist(pred_file_path)"
   ]
  },
  {
   "cell_type": "code",
   "execution_count": null,
   "metadata": {},
   "outputs": [],
   "source": [
    "# Inference on the validation set to compare actual with predicted values\n",
    "pred_file_path = './inference_results/vit_model/cleaned-3b/BW/test_no_cls_token/preds_vit_1715016846.793841.pkl'\n",
    "true_file_path = './inference_results/vit_model/cleaned-3b/BW/test_no_cls_token/y_vit_1715016846.7940617.pkl'\n",
    "plot_pred_vs_true(pred_file_path, true_file_path, xlim=(0,3.5), ylim=(0,3.5))"
   ]
  },
  {
   "cell_type": "markdown",
   "metadata": {},
   "source": [
    "----\n",
    "### Vision Transform Model (VIT)  3-channel, Clean-3b Dataset"
   ]
  },
  {
   "cell_type": "code",
   "execution_count": null,
   "metadata": {},
   "outputs": [],
   "source": [
    "# Inference on the validation set to compare actual with predicted values\n",
    "pred_file_path = './inference_results/vit_model/cleaned-3b/BGR/test_no_cls_token/preds_vit_1715020986.6452327.pkl'\n",
    "true_file_path = './inference_results/vit_model/cleaned-3b/BGR/test_no_cls_token/y_vit_1715020986.6455376.pkl'\n",
    "plot_pred_vs_true(pred_file_path, true_file_path, xlim=(0,3.5), ylim=(0,3.5))"
   ]
  },
  {
   "cell_type": "markdown",
   "metadata": {},
   "source": [
    "----\n",
    "### TFormMLP Clean-4 Dataset "
   ]
  },
  {
   "cell_type": "code",
   "execution_count": null,
   "metadata": {},
   "outputs": [],
   "source": [
    "pred_file_path = './test_results/tform_mlp_model/cleaned-4-data/preds_tform_mlp_1715105469.0702462.pkl'\n",
    "true_file_path = './test_results/tform_mlp_model/cleaned-4-data/y_tform_mlp_1715105469.0702462.pkl'\n",
    "plot_pred_vs_true(pred_file_path, true_file_path, xlim=(0,3.5), ylim=(0,3.5))"
   ]
  },
  {
   "cell_type": "markdown",
   "metadata": {},
   "source": [
    "----\n",
    "### TFormMLP Clean-4 Dataset:  pretrained, then fine-tuned"
   ]
  },
  {
   "cell_type": "code",
   "execution_count": 10,
   "metadata": {},
   "outputs": [
    {
     "name": "stdout",
     "output_type": "stream",
     "text": [
      "len(preds): 1232 , len(y): 1232\n"
     ]
    },
    {
     "data": {
      "image/png": "[encoded data removed]",
      "text/plain": [
       "<Figure size 640x480 with 1 Axes>"
      ]
     },
     "metadata": {},
     "output_type": "display_data"
    },
    {
     "name": "stdout",
     "output_type": "stream",
     "text": [
      "[[-0.0672474354505539], [-0.062493909150362015], [-0.0630592554807663], [-0.06208108738064766], [-0.06375889480113983], [-0.06083076074719429], [-0.06997321546077728], [-0.06238185241818428], [-0.06314454972743988], [-0.061779070645570755], [-0.061453867703676224], [-0.06186460331082344], [-0.0604545958340168], [-0.060579050332307816], [-0.06071798875927925], [-0.05986892059445381], [-0.05966620519757271], [-0.07092492282390594], [-0.07011543214321136], [-0.06837813556194305], [-0.06860367953777313], [-0.07030336558818817], [-0.06874261796474457], [-0.0696902722120285], [-0.06981776654720306], [-0.05845891311764717], [-0.06250779330730438], [-0.061176467686891556], [-0.05852733924984932], [-0.0578262098133564], [-0.05957113578915596], [-0.059380341321229935], [-0.05969243124127388], [-0.05954485014081001], [-0.0599699504673481], [-0.058689702302217484], [-0.05764882639050484], [-0.05720185115933418], [-0.059947241097688675], [-0.056634772568941116], [-0.05910848453640938], [-0.058031369000673294], [-0.05988149717450142], [-0.06043200567364693], [-0.05966900661587715], [-0.06075190380215645], [-0.057779718190431595], [-0.060245025902986526], [-0.05790315940976143], [-0.06072859838604927], [-0.05865483358502388], [-0.05972360447049141], [-0.061026621609926224], [-0.05995647981762886], [-0.06144111230969429], [-0.05781148746609688], [-0.059083450585603714], [-0.05833565071225166], [-0.062033046036958694], [-0.05765186622738838], [-0.05775635316967964], [-0.05879514291882515], [-0.05636702850461006], [-0.05917327478528023], [-0.05902724340558052], [-0.05662285163998604], [-0.06027953699231148], [-0.05940162017941475], [-0.06020777300000191], [-0.05987577512860298], [-0.05909853056073189], [-0.057274866849184036], [-0.05873774364590645], [-0.05590795353055], [-0.057022977620363235], [-0.05871753767132759], [-0.05828963592648506], [-0.05809979513287544], [-0.060447145253419876], [-0.06032644584774971], [-0.05845271423459053], [-0.05792008712887764], [-0.060708511620759964], [-0.05973367765545845], [-0.05705820396542549], [-0.059509146958589554], [-0.05884836986660957], [-0.05923490598797798], [-0.05951343849301338], [-0.056784678250551224], [-0.05860571935772896], [-0.05854712799191475], [-0.06064223125576973], [-0.05872933939099312], [-0.05723189190030098], [-0.05831192806363106], [-0.05980776622891426], [-0.059390414506196976], [-0.06171082332730293], [-0.05968855693936348], [-0.06119661405682564], [-0.057158637791872025], [-0.05943958833813667], [-0.05933194234967232], [-0.05832188203930855], [-0.059481192380189896], [-0.05901740863919258], [-0.05937080457806587], [-0.05856292322278023], [-0.06013916805386543], [-0.056173134595155716], [-0.05941389873623848], [-0.05703787878155708], [-0.05804269388318062], [-0.05920212343335152], [-0.060347188264131546], [-0.05832873657345772], [-0.05742840841412544], [-0.05923955515027046], [-0.05922107771039009], [-0.05837123468518257], [-0.05772357061505318], [-0.05739997699856758], [-0.05920695140957832], [-0.05821775272488594], [-0.06055443361401558], [-0.059080589562654495], [-0.05956684425473213], [-0.05869554355740547], [-0.058606017380952835], [-0.05866609886288643], [-0.059162963181734085], [-0.058339644223451614], [-0.05875401571393013], [-0.057818640023469925], [-0.05764894559979439], [-0.06058250740170479], [-0.05924789980053902], [-0.059137631207704544], [-0.06114773824810982], [-0.06218062713742256], [-0.05737929418683052], [-0.05890940502285957], [-0.05963825061917305], [-0.05847494676709175], [-0.06323038041591644], [-0.05685596540570259], [-0.05994575098156929], [-0.06053267791867256], [-0.0591883547604084], [-0.05936383083462715], [-0.0569646842777729], [-0.056993115693330765], [-0.05832885578274727], [-0.058864761143922806], [-0.05922519043087959], [-0.05934553220868111], [-0.05921762064099312], [-0.05650286749005318], [-0.06093292310833931], [-0.05913363769650459], [-0.059150565415620804], [-0.059904444962739944], [-0.05827974155545235], [-0.06050645187497139], [-0.06157975271344185], [-0.06059377267956734], [-0.059880662709474564], [-0.05949561670422554], [-0.057613957673311234], [-0.059062410145998], [-0.0584709532558918], [-0.05803542211651802], [-0.05937730148434639], [-0.05707387998700142], [-0.06078921630978584], [-0.05900757387280464], [-0.05908333137631416], [-0.05875145271420479], [-0.05917846038937569], [-0.05909930542111397], [-0.061977554112672806], [-0.05964164808392525], [-0.05831955745816231], [-0.058965492993593216], [-0.05669604614377022], [-0.0596497543156147], [-0.05721234157681465], [-0.06176673248410225], [-0.06010650470852852], [-0.06001221016049385], [-0.05840824916958809], [-0.06033508852124214], [-0.05564366653561592], [-0.06102888658642769], [-0.0591113455593586], [-0.06013159826397896], [-0.056148041039705276], [-0.056136418133974075], [-0.05800448730587959], [-0.05849640443921089], [-0.05895202234387398], [-0.05684481933712959], [-0.05844848230481148], [-0.060951102524995804], [-0.06114744022488594], [-0.0568959005177021], [-0.05836378410458565], [-0.0609547384083271], [-0.06197546795010567], [-0.06063567474484444], [-0.059496331959962845], [-0.0612524040043354], [-0.05917685106396675], [-0.06011490896344185], [-0.058757055550813675], [-0.06057547405362129], [-0.06073867157101631], [-0.05955712869763374], [-0.05730186775326729], [-0.05894200876355171], [-0.05996434763073921], [-0.057539213448762894], [-0.05896501615643501], [-0.05776594951748848], [-0.05683790519833565], [-0.05999462679028511], [-0.0566168911755085], [-0.0568535216152668], [-0.05660240724682808], [-0.060699451714754105], [-0.059171367436647415], [-0.05573265627026558], [-0.06015424802899361], [-0.06008725240826607], [-0.05999152734875679], [-0.060894716531038284], [-0.06109892204403877], [-0.05756019428372383], [-0.05944101884961128], [-0.057979095727205276], [-0.05918328836560249], [-0.05729280784726143], [-0.0641397088766098], [-0.057381678372621536], [-0.058876026421785355], [-0.06041466072201729], [-0.06140117719769478], [-0.05870931223034859], [-0.05904822424054146], [-0.062151361256837845], [-0.06071465089917183], [-0.0580478198826313], [-0.05914388969540596], [-0.05943535640835762], [-0.05776636675000191], [-0.05721728876233101], [-0.06012498214840889], [-0.05788670852780342], [-0.06056402996182442], [-0.06020473316311836], [-0.05925183370709419], [-0.06000911071896553], [-0.05803995206952095], [-0.06097768619656563], [-0.06058989837765694], [-0.057810116559267044], [-0.06162982061505318], [-0.05939905717968941], [-0.06009863689541817], [-0.05901538208127022], [-0.05699567869305611], [-0.05853467062115669], [-0.05929606035351753], [-0.05762730911374092], [-0.062342096120119095], [-0.059410084038972855], [-0.05862085893750191], [-0.058510709553956985], [-0.06130014732480049], [-0.05767719820141792], [-0.05660628154873848], [-0.057015467435121536], [-0.05719660595059395], [-0.05901317670941353], [-0.05775897577404976], [-0.05908011272549629], [-0.059098947793245316], [-0.05886339023709297], [-0.06149737909436226], [-0.05651675537228584], [-0.05991123989224434], [-0.058601487427949905], [-0.05803089216351509], [-0.05883227661252022], [-0.059829581528902054], [-0.05613355711102486], [-0.057727206498384476], [-0.058105576783418655], [-0.05937694385647774], [-0.058939386159181595], [-0.05789374187588692], [-0.0586349256336689], [-0.05834465101361275], [-0.059075165539979935], [-0.06011467054486275], [-0.05840681865811348], [-0.0588257797062397], [-0.05804770067334175], [-0.05926721170544624], [-0.05983882024884224], [-0.060530055314302444], [-0.05920385196805], [-0.0599471814930439], [-0.05913959816098213], [-0.0615721233189106], [-0.05955289676785469], [-0.05767469480633736], [-0.060001302510499954], [-0.057081807404756546], [-0.05951427295804024], [-0.05717485025525093], [-0.05960218980908394], [-0.05768590047955513], [-0.05784641578793526], [-0.06081425026059151], [-0.05816744640469551], [-0.056870270520448685], [-0.05922125652432442], [-0.057604480534791946], [-0.06283144652843475], [-0.05974685028195381], [-0.0570903904736042], [-0.05941056087613106], [-0.05934428051114082], [-0.059550751000642776], [-0.058670151978731155], [-0.05698709562420845], [-0.06109063699841499], [-0.05909853056073189], [-0.060282159596681595], [-0.058293867856264114], [-0.05975453928112984], [-0.05781947448849678], [-0.05864100530743599], [-0.05673270300030708], [-0.058169174939394], [-0.05792032554745674], [-0.05933665111660957], [-0.06026582792401314], [-0.05769132450222969], [-0.05908207967877388], [-0.058767903596162796], [-0.05906890705227852], [-0.05616580322384834], [-0.05874137952923775], [-0.061566878110170364], [-0.057690370827913284], [-0.05786137655377388], [-0.06188409402966499], [-0.05809586122632027], [-0.058278847485780716], [-0.05896281078457832], [-0.060448575764894485], [-0.05809145048260689], [-0.05725525692105293], [-0.057723332196474075], [-0.059678543359041214], [-0.06173079088330269], [-0.06029682233929634], [-0.05808447673916817], [-0.05906103923916817], [-0.06033538654446602], [-0.059078920632600784], [-0.0594475157558918], [-0.05864023044705391], [-0.057696569710969925], [-0.05903177335858345], [-0.05769621208310127], [-0.05945305898785591], [-0.06141458824276924], [-0.05959765985608101], [-0.05875222757458687], [-0.060413289815187454], [-0.058304477483034134], [-0.05883483961224556], [-0.05854945257306099], [-0.06021915748715401], [-0.05845533683896065], [-0.05782322958111763], [-0.05744032934308052], [-0.06093989685177803], [-0.058736611157655716], [-0.06146882846951485], [-0.0608937032520771], [-0.05870698764920235], [-0.05859469249844551], [-0.057756949216127396], [-0.05828129127621651], [-0.057982612401247025], [-0.059399474412202835], [-0.06008540466427803], [-0.05971919372677803], [-0.059295881539583206], [-0.058681536465883255], [-0.06144045665860176], [-0.05872403457760811], [-0.05858426168560982], [-0.05875896289944649], [-0.060207296162843704], [-0.05953441932797432], [-0.05890535190701485], [-0.05845050886273384], [-0.058020997792482376], [-0.057952869683504105], [-0.05824791267514229], [-0.06209181621670723], [-0.0585356242954731], [-0.05827390030026436], [-0.059645820409059525], [-0.05816786363720894], [-0.05792020633816719], [-0.05949758365750313], [-0.05773060396313667], [-0.06089125946164131], [-0.058541346341371536], [-0.061198342591524124], [-0.05943797901272774], [-0.06071047857403755], [-0.05873088911175728], [-0.059879232197999954], [-0.06187717989087105], [-0.057849932461977005], [-0.059247422963380814], [-0.05929778888821602], [-0.05990104749798775], [-0.05898093059659004], [-0.05992256477475166], [-0.05959974601864815], [-0.06098322942852974], [-0.058815885335206985], [-0.05728321149945259], [-0.05915628746151924], [-0.06216620281338692], [-0.05699138715863228], [-0.06062816455960274], [-0.0586346872150898], [-0.05649029091000557], [-0.0587531216442585], [-0.05760907009243965], [-0.056429553776979446], [-0.05701826885342598], [-0.06017552688717842], [-0.05947970226407051], [-0.0592074878513813], [-0.05731217935681343], [-0.05784957483410835], [-0.061190057545900345], [-0.0598289854824543], [-0.05724417045712471], [-0.0599629171192646], [-0.058621395379304886], [-0.05725311115384102], [-0.05901061370968819], [-0.057752955704927444], [-0.056100595742464066], [-0.05714981630444527], [-0.05667750909924507], [-0.059960294514894485], [-0.05743502452969551], [-0.05888282135128975], [-0.056821633130311966], [-0.0608363039791584], [-0.05902289226651192], [-0.06094430759549141], [-0.05845789983868599], [-0.059023309499025345], [-0.06169121339917183], [-0.05956702306866646], [-0.059766996651887894], [-0.058553148061037064], [-0.058926213532686234], [-0.059113193303346634], [-0.059575844556093216], [-0.05909769609570503], [-0.057362306863069534], [-0.057563651353120804], [-0.058268118649721146], [-0.057578910142183304], [-0.0610799677670002], [-0.058177996426820755], [-0.05835627391934395], [-0.06041734293103218], [-0.06032465770840645], [-0.05734454467892647], [-0.06224273517727852], [-0.06005679443478584], [-0.06037484481930733], [-0.05766652897000313], [-0.05818824842572212], [-0.05906074121594429], [-0.0566365011036396], [-0.05780963972210884], [-0.05940448120236397], [-0.05749254301190376], [-0.06026874855160713], [-0.05850677564740181], [-0.059888530522584915], [-0.06034218147397041], [-0.0577039010822773], [-0.059412408620119095], [-0.059275317937135696], [-0.060460615903139114], [-0.05920844152569771], [-0.06124936416745186], [-0.0564303882420063], [-0.05816708877682686], [-0.05796198919415474], [-0.05963938310742378], [-0.061319757252931595], [-0.057053375989198685], [-0.05882744863629341], [-0.06091951206326485], [-0.06175469234585762], [-0.059661854058504105], [-0.058646310120821], [-0.0608055479824543], [-0.05742626264691353], [-0.0583450086414814], [-0.05883108451962471], [-0.058157432824373245], [-0.05862234905362129], [-0.06040983274579048], [-0.05720900371670723], [-0.05897574499249458], [-0.05749361589550972], [-0.05893658474087715], [-0.058599818497896194], [-0.0593632347881794], [-0.05981652811169624], [-0.06232194975018501], [-0.058745015412569046], [-0.06059985235333443], [-0.05872325971722603], [-0.05892591550946236], [-0.05901085212826729], [-0.06093411520123482], [-0.059486258774995804], [-0.058732856065034866], [-0.06042991951107979], [-0.06011347845196724], [-0.06079672649502754], [-0.05784134939312935], [-0.06006913259625435], [-0.06070052459836006], [-0.05744664743542671], [-0.05680941417813301], [-0.057825613766908646], [-0.06233643367886543], [-0.05879013612866402], [-0.06066225841641426], [-0.058364201337099075], [-0.05996178463101387], [-0.0576770193874836], [-0.059067416936159134], [-0.06073145940899849], [-0.06055133417248726], [-0.061171699315309525], [-0.05832820013165474], [-0.05891614034771919], [-0.057926226407289505], [-0.05913524702191353], [-0.060000885277986526], [-0.059878040105104446], [-0.05992697551846504], [-0.0599018819630146], [-0.0589628703892231], [-0.05903368070721626], [-0.06127868965268135], [-0.06116323545575142], [-0.0614582784473896], [-0.05994062498211861], [-0.06114690378308296], [-0.06004737690091133], [-0.06054138019680977], [-0.05986117199063301], [-0.05849193409085274], [-0.058595288544893265], [-0.06185542419552803], [-0.057930756360292435], [-0.057478416711091995], [-0.059661854058504105], [-0.05928288772702217], [-0.05899714305996895], [-0.057708967477083206], [-0.06039940193295479], [-0.058437395840883255], [-0.06053333356976509], [-0.05849336460232735], [-0.06067894771695137], [-0.06021534278988838], [-0.05890684202313423], [-0.05968295410275459], [-0.06050138548016548], [-0.05639754608273506], [-0.060926903039216995], [-0.05923377349972725], [-0.05802302435040474], [-0.05943666771054268], [-0.05795513466000557], [-0.06001858785748482], [-0.058264125138521194], [-0.0580090768635273], [-0.057202208787202835], [-0.059176016598939896], [-0.0616978295147419], [-0.06010632589459419], [-0.05934588983654976], [-0.05897890403866768], [-0.05878793075680733], [-0.05775504186749458], [-0.05507843568921089], [-0.0549500472843647], [-0.0608668215572834], [-0.05969725921750069], [-0.05969213321805], [-0.056349147111177444], [-0.05715637281537056], [-0.05826525762677193], [-0.05921601131558418], [-0.05912886932492256], [-0.0594358928501606], [-0.059598375111818314], [-0.05850367620587349], [-0.05918912962079048], [-0.060740876942873], [-0.0604354627430439], [-0.0576968677341938], [-0.058470357209444046], [-0.059526074677705765], [-0.05623267963528633], [-0.059461284428834915], [-0.059206534177064896], [-0.056803811341524124], [-0.058624494820833206], [-0.05965911224484444], [-0.05700956657528877], [-0.05789380148053169], [-0.05905895307660103], [-0.059305597096681595], [-0.05820392444729805], [-0.05731867626309395], [-0.058177877217531204], [-0.05719869211316109], [-0.06309221684932709], [-0.059806276112794876], [-0.05809180811047554], [-0.0568724162876606], [-0.06029396131634712], [-0.058968234807252884], [-0.05909668281674385], [-0.0583227165043354], [-0.0604511983692646], [-0.06008504703640938], [-0.05940668657422066], [-0.05743305757641792], [-0.05647020414471626], [-0.05945293977856636], [-0.05817614868283272], [-0.05724232271313667], [-0.05867033079266548], [-0.0571507103741169], [-0.05940460041165352], [-0.05995147302746773], [-0.05673180893063545], [-0.05957077816128731], [-0.058293212205171585], [-0.05846290662884712], [-0.05729471519589424], [-0.06001703813672066], [-0.05939154699444771], [-0.05663042142987251], [-0.05803506448864937], [-0.05751543119549751], [-0.058585334569215775], [-0.05830197408795357], [-0.058699894696474075], [-0.058528829365968704], [-0.05834095552563667], [-0.06125955656170845], [-0.05904274061322212], [-0.05828266218304634], [-0.05956094339489937], [-0.05726360157132149], [-0.05871223285794258], [-0.05832408741116524], [-0.05770306661725044], [-0.061069000512361526], [-0.05712764337658882], [-0.059379804879426956], [-0.056773651391267776], [-0.06010179594159126], [-0.05818502977490425], [-0.057430315762758255], [-0.05879269912838936], [-0.058131564408540726], [-0.05950133875012398], [-0.05811809375882149], [-0.05859522894024849], [-0.058018434792757034], [-0.059823621064424515], [-0.058791983872652054], [-0.05938481166958809], [-0.05790524557232857], [-0.05682485178112984], [-0.06120418384671211], [-0.0618930347263813], [-0.06074189022183418], [-0.05900399759411812], [-0.06124650314450264], [-0.05836157873272896], [-0.05837862566113472], [-0.05881147459149361], [-0.059143174439668655], [-0.056792963296175], [-0.05671970918774605], [-0.056797612458467484], [-0.05928264930844307], [-0.05862252786755562], [-0.057528067380189896], [-0.059503842145204544], [-0.05600177124142647], [-0.05802934244275093], [-0.060167837888002396], [-0.05755047872662544], [-0.05817298963665962], [-0.060022998601198196], [-0.06133471801877022], [-0.059243906289339066], [-0.05816857889294624], [-0.06072061136364937], [-0.057524312287569046], [-0.05891256406903267], [-0.06283734738826752], [-0.059261906892061234], [-0.05808143690228462], [-0.060449112206697464], [-0.058261025696992874], [-0.05683993175625801], [-0.05921952798962593], [-0.05896012857556343], [-0.058553922921419144], [-0.0606839545071125], [-0.05888258293271065], [-0.05746059492230415], [-0.06070994213223457], [-0.05700032785534859], [-0.05783902481198311], [-0.0610305555164814], [-0.06029771640896797], [-0.057751644402742386], [-0.06217752769589424], [-0.057880330830812454], [-0.06058477237820625], [-0.057039547711610794], [-0.05931215360760689], [-0.05872087553143501], [-0.058651138097047806], [-0.05775498226284981], [-0.059745777398347855], [-0.05879305675625801], [-0.057198453694581985], [-0.05908327177166939], [-0.06123148277401924], [-0.060057032853364944], [-0.058858443051576614], [-0.059009600430727005], [-0.055668700486421585], [-0.057804275304079056], [-0.056524742394685745], [-0.06145356968045235], [-0.05933152511715889], [-0.06077449396252632], [-0.05755804851651192], [-0.06049250438809395], [-0.05959062650799751], [-0.061062682420015335], [-0.05774937942624092], [-0.05788539722561836], [-0.058665502816438675], [-0.06205778196454048], [-0.057405341416597366], [-0.05687509849667549], [-0.05576448515057564], [-0.05947594717144966], [-0.05893515422940254], [-0.05703197792172432], [-0.05748610571026802], [-0.057791996747255325], [-0.059484947472810745], [-0.06077723577618599], [-0.06010572984814644], [-0.05887423828244209], [-0.06018029525876045], [-0.05746578052639961], [-0.05793105438351631], [-0.05675004795193672], [-0.05698220804333687], [-0.05915718153119087], [-0.0599515326321125], [-0.06048779562115669], [-0.05610852316021919], [-0.05826907232403755], [-0.05785493925213814], [-0.05850093439221382], [-0.05989580228924751], [-0.05855201557278633], [-0.058702994138002396], [-0.05984555557370186], [-0.06109427288174629], [-0.062614306807518], [-0.06163649633526802], [-0.05729864910244942], [-0.05944441631436348], [-0.058884430676698685], [-0.058734405785799026], [-0.058377671986818314], [-0.057655323296785355], [-0.06087611988186836], [-0.06077860668301582], [-0.05870698764920235], [-0.05842464044690132], [-0.05901693180203438], [-0.05972694233059883], [-0.059714365750551224], [-0.058301497250795364], [-0.059143830090761185], [-0.059396255761384964], [-0.058790434151887894], [-0.06158094480633736], [-0.059578705579042435], [-0.05996929481625557], [-0.0589740164577961], [-0.05786537006497383], [-0.05947725847363472], [-0.05920623615384102], [-0.057877350598573685], [-0.057830262929201126], [-0.05850260332226753], [-0.058912623673677444], [-0.05999957397580147], [-0.06103210523724556], [-0.05960266664624214], [-0.05901627615094185], [-0.05663268640637398], [-0.05820046737790108], [-0.061209965497255325], [-0.057554829865694046], [-0.058096397668123245], [-0.06165872886776924], [-0.05885427072644234], [-0.061299312859773636], [-0.05985920503735542], [-0.05744903162121773], [-0.060686517506837845], [-0.05881081894040108], [-0.05724971368908882], [-0.05724840238690376], [-0.060259509831666946], [-0.058020997792482376], [-0.06035320833325386], [-0.059662748128175735], [-0.0596882589161396], [-0.05679880455136299], [-0.057114291936159134], [-0.0583600290119648], [-0.059349168092012405], [-0.05669127777218819], [-0.05878173187375069], [-0.0589095838367939], [-0.05843536928296089], [-0.061037350445985794], [-0.05941997841000557], [-0.0587003119289875], [-0.0587652213871479], [-0.059972453862428665], [-0.05888925865292549], [-0.05834423378109932], [-0.05619262531399727], [-0.06087683513760567], [-0.05902289226651192], [-0.058113861829042435], [-0.056407321244478226], [-0.0599776990711689], [-0.05930458381772041], [-0.06015913560986519], [-0.06010334566235542], [-0.059025514870882034], [-0.05743103101849556], [-0.06021111086010933], [-0.059283364564180374], [-0.06068556383252144], [-0.0589483268558979], [-0.058126259595155716], [-0.06070004776120186], [-0.05791519954800606], [-0.059032607823610306], [-0.05850647762417793], [-0.06145899370312691], [-0.05807875469326973], [-0.05667351558804512], [-0.0591043122112751], [-0.06268821656703949], [-0.05692582204937935], [-0.059714365750551224], [-0.057155776768922806], [-0.057753611356019974], [-0.057273078709840775], [-0.058530259877443314], [-0.061371613293886185], [-0.05930446460843086], [-0.05871694162487984], [-0.056454528123140335], [-0.058023203164339066], [-0.05677180364727974], [-0.05759524181485176], [-0.06013082340359688], [-0.05718718841671944], [-0.058676768094301224], [-0.056907523423433304], [-0.06042538955807686], [-0.06064252927899361], [-0.0573761947453022], [-0.05826990678906441], [-0.058330584317445755], [-0.057360757142305374], [-0.056526411324739456], [-0.059095609933137894], [-0.05943625047802925], [-0.05989401414990425], [-0.0575750358402729], [-0.058595169335603714], [-0.060727644711732864], [-0.05919485166668892], [-0.05704580619931221], [-0.058763373643159866], [-0.059482503682374954], [-0.06014208868145943], [-0.06122719123959541], [-0.05802660062909126], [-0.05937539413571358], [-0.0585966594517231], [-0.05918281152844429], [-0.05715220049023628], [-0.05803554132580757], [-0.06111924722790718], [-0.05890475586056709], [-0.0589977391064167], [-0.06025652959942818], [-0.058125901967287064], [-0.05748729780316353], [-0.057724226266145706], [-0.059163082391023636], [-0.05898099020123482], [-0.05930756404995918], [-0.057050157338380814], [-0.06026666238903999], [-0.05566244199872017], [-0.06085776165127754], [-0.058318424969911575], [-0.05880694463849068], [-0.05981628969311714], [-0.06259380280971527], [-0.05846499279141426], [-0.05734537914395332], [-0.06156425550580025], [-0.0567777045071125], [-0.05778198316693306], [-0.05908750370144844], [-0.058212269097566605], [-0.060562241822481155], [-0.05942725017666817], [-0.05966823175549507], [-0.05867503955960274], [-0.05792205408215523], [-0.05961291864514351], [-0.06087391451001167], [-0.05835597589612007], [-0.057303477078676224], [-0.05836503580212593], [-0.059163618832826614], [-0.060497988015413284], [-0.05753533914685249], [-0.059707630425691605], [-0.05911349132657051], [-0.05969129875302315], [-0.05672602728009224], [-0.05849151685833931], [-0.05918024852871895], [-0.059073556214571], [-0.059688616544008255], [-0.0583031065762043], [-0.0599469430744648], [-0.05616788938641548], [-0.05616222694516182], [-0.05886350944638252], [-0.059185612946748734], [-0.061579395085573196], [-0.059557605534791946], [-0.05795257166028023], [-0.059633899480104446], [-0.057152558118104935], [-0.057446230202913284], [-0.05705289915204048], [-0.05814235284924507], [-0.05899130180478096], [-0.05973486974835396], [-0.0602148063480854], [-0.05954967811703682], [-0.05675875023007393], [-0.0578494556248188], [-0.06165604665875435], [-0.0580967552959919], [-0.05996875837445259], [-0.06049029901623726], [-0.06009017303586006], [-0.06019984558224678], [-0.05964397266507149], [-0.058536458760499954], [-0.05505918338894844], [-0.05913858488202095], [-0.06006138399243355], [-0.06041102483868599], [-0.058936286717653275], [-0.05823134258389473], [-0.059075940400362015], [-0.05911843851208687], [-0.05852465704083443], [-0.061183203011751175], [-0.05766211822628975], [-0.059724558144807816], [-0.05874209478497505], [-0.060457754880189896], [-0.06287448108196259], [-0.058667052537202835], [-0.06069641187787056], [-0.05888526514172554], [-0.05884658172726631], [-0.05962716415524483], [-0.0582457073032856], [-0.0577615387737751], [-0.06049053743481636], [-0.06131892278790474], [-0.05907522514462471], [-0.06055610254406929], [-0.06020723655819893], [-0.058592844754457474], [-0.05763845518231392], [-0.05837254598736763], [-0.05942963436245918], [-0.05775688961148262], [-0.05674438551068306], [-0.06003587320446968], [-0.057600367814302444], [-0.0597030408680439], [-0.05912267044186592], [-0.059327710419893265], [-0.05843936279416084], [-0.059489656239748], [-0.061145711690187454], [-0.06047980859875679], [-0.05911152437329292], [-0.06073157861828804], [-0.059390176087617874], [-0.057639528065919876], [-0.056603241711854935], [-0.057864416390657425], [-0.05928032472729683], [-0.060421157628297806], [-0.06029139831662178], [-0.05806546285748482], [-0.06072430685162544], [-0.05854688957333565], [-0.05974208191037178], [-0.05852251127362251], [-0.05948840454220772], [-0.05920057371258736], [-0.058304596692323685], [-0.05777107551693916], [-0.05970405414700508], [-0.05922757461667061], [-0.060634780675172806], [-0.057284463196992874], [-0.060689378529787064], [-0.05913041904568672], [-0.05749093368649483], [-0.059916187077760696], [-0.05952899530529976], [-0.05854379013180733], [-0.05990790203213692], [-0.05959611013531685], [-0.057801712304353714], [-0.05844085291028023], [-0.06218926981091499], [-0.05795281007885933], [-0.06084977462887764], [-0.059593189507722855], [-0.05827825143933296], [-0.05823545530438423], [-0.059755075722932816], [-0.060468900948762894], [-0.05986647680401802], [-0.059243250638246536], [-0.05746059492230415], [-0.06000756099820137], [-0.06006782129406929], [-0.05922912433743477], [-0.0578300841152668], [-0.05840538814663887], [-0.060841429978609085], [-0.060609687119722366], [-0.05774431303143501], [-0.06147925928235054], [-0.057992804795503616], [-0.05909477546811104], [-0.05843900516629219], [-0.061789024621248245], [-0.059133995324373245], [-0.060243476182222366], [-0.059258926659822464], [-0.05761658027768135], [-0.05705671384930611], [-0.06073199585080147], [-0.061254311352968216], [-0.06039099767804146], [-0.05804632976651192], [-0.060281384736299515], [-0.06239740923047066], [-0.06032102182507515], [-0.06212728098034859], [-0.06261633336544037], [-0.058125365525484085], [-0.056959617882966995], [-0.0598442442715168], [-0.05720280483365059], [-0.05783681944012642], [-0.060046542435884476], [-0.05992238596081734], [-0.056570280343294144], [-0.05907391384243965], [-0.058786142617464066], [-0.06023489311337471], [-0.06303875148296356], [-0.06054358556866646], [-0.059556711465120316], [-0.058467138558626175], [-0.05959944799542427], [-0.0594324953854084], [-0.05840658023953438], [-0.059041667729616165], [-0.06054382398724556], [-0.05982445552945137], [-0.061511147767305374], [-0.05984102562069893], [-0.061032284051179886], [-0.060507822781801224], [-0.06065880134701729], [-0.059104908257722855], [-0.05851345136761665], [-0.05882721021771431], [-0.05853717401623726], [-0.05859171226620674], [-0.06027041748166084], [-0.058557260781526566], [-0.05963878706097603], [-0.05951838567852974], [-0.059423793107271194], [-0.06055491045117378], [-0.061422932893037796], [-0.05949108675122261], [-0.0584939606487751], [-0.05971263721585274], [-0.060444701462984085], [-0.05980413034558296], [-0.06037567928433418], [-0.06034957244992256], [-0.05913274362683296], [-0.05842297151684761], [-0.05892198160290718], [-0.06068866327404976], [-0.06051056459546089], [-0.05846666172146797], [-0.06403641402721405], [-0.058931875973939896], [-0.058551836758852005], [-0.058951545506715775], [-0.057957280427217484], [-0.057553280144929886], [-0.05766080692410469], [-0.05927102640271187], [-0.059769678860902786], [-0.0590968020260334], [-0.05753223970532417], [-0.05843924358487129], [-0.05810730531811714], [-0.06077103689312935], [-0.060536909848451614], [-0.05781768634915352], [-0.05917881801724434], [-0.05778031423687935], [-0.059586454182863235], [-0.06112181022763252], [-0.06033985689282417], [-0.060734737664461136], [-0.061252523213624954], [-0.06018279865384102], [-0.056502748280763626], [-0.05829368904232979], [-0.05770670250058174], [-0.05926625803112984], [-0.0576932318508625], [-0.05979524925351143], [-0.05853014066815376], [-0.05811261013150215], [-0.061217356473207474], [-0.05901895835995674], [-0.059967923909425735], [-0.05778919532895088], [-0.05912308767437935], [-0.06007032468914986], [-0.06094776466488838], [-0.058450449258089066]]\n"
     ]
    }
   ],
   "source": [
    "pred_file_path = './test_results/tform_mlp_model/finetune/cleaned-4b-data/preds_tform_mlp_1715572603.424339.pkl'\n",
    "true_file_path = './test_results/tform_mlp_model/finetune/cleaned-4b-data/y_tform_mlp_1715572603.424339.pkl'\n",
    "plot_pred_vs_true(pred_file_path, true_file_path, xlim=(-1.0, 0.5), ylim=(-0.2,0))\n",
    "\n",
    "a = pk.load(open(pred_file_path, 'rb'))\n",
    "print(a)"
   ]
  },
  {
   "cell_type": "markdown",
   "metadata": {},
   "source": [
    "----\n",
    "### t-SNE analysis\n",
    "\n",
    "The transformer-based models should have learned relationships between the elements of the sequence.  See how this appears in t-SNE plots"
   ]
  },
  {
   "cell_type": "code",
   "execution_count": null,
   "metadata": {},
   "outputs": [],
   "source": [
    "%autoreload\n",
    "from torch.utils.data import DataLoader\n",
    "from models.tform_mlp import TFormMLP_Lightning\n",
    "from datasets.scFv_dataset import scFv_Dataset as dataset\n",
    "import os\n",
    "import yaml\n",
    "import pytorch_lightning as pl\n",
    "import torch\n",
    "\n",
    "# Read the config\n",
    "config_path = './config/tform_mlp_params.yaml'  \n",
    "with open(config_path, 'r') as file:\n",
    "    try:\n",
    "        config = yaml.safe_load(file)\n",
    "    except yaml.YAMLError as exc:\n",
    "        print(exc)\n",
    "\n",
    "model_config = config['model_params']\n",
    "train_config = config['train_params']    \n",
    "test_config = config['test_params']\n",
    "print(model_config)\n",
    "print(train_config)\n",
    "print(test_config)\n",
    "\n",
    "pl.seed_everything(config['seed'])\n",
    "\n"
   ]
  },
  {
   "cell_type": "code",
   "execution_count": null,
   "metadata": {},
   "outputs": [],
   "source": [
    "#----------------------------------------------------------\n",
    "# Load the dataset and dataloaders\n",
    "#----------------------------------------------------------\n",
    "test_data_path = './data/q_cleaned_4b_test_set.csv'\n",
    "test_dataset = dataset(train_config, model_config['block_size'], test_data_path, regularize=False)\n",
    "test_loader = DataLoader(test_dataset, shuffle=False, batch_size=train_config['batch_size'])\n",
    "\n",
    "#----------------------------------------------------------\n",
    "# Load pre-trained model\n",
    "#----------------------------------------------------------\n",
    "checkpoint_name = './lightning_logs/tform_mlp_model/cleaned-4b-data/version_2/checkpoints/epoch=135-step=4200-val_loss=0.10-loss=0.09.ckpt' \n",
    "model = TFormMLP_Lightning.load_from_checkpoint(checkpoint_path=checkpoint_name, model_config=model_config, config=train_config)\n",
    "\n",
    "# register a forward hooks to pick out the output tensors for the attention blocks\n",
    "feats = {} #an empty dictionary\n",
    "def hook_func(m , inp ,op):\n",
    "   feats['feat'] = op.detach()\n",
    "\n",
    "model.model.transformer.encoders[5].attn_block.attend.register_forward_hook(hook_func)"
   ]
  },
  {
   "cell_type": "code",
   "execution_count": null,
   "metadata": {},
   "outputs": [],
   "source": [
    "it = iter(test_loader)\n",
    "batch = next(it)\n",
    "# x, x2, x3, y, name = batch\n",
    "x, y, name = batch\n",
    "print('x shape:', x.shape, ', y shape:', y.shape)\n",
    "\n",
    "# y_hat, trans_out = model(x.to(model.device), x2.to(model.device), x3.to(model.device))\n",
    "y_hat, trans_out = model(x.to(model.device))\n",
    "print('y_hat shape:', y_hat.shape, ', trans_out shape', trans_out.shape)\n",
    "\n",
    "print('hook function results. feats[feat].shape:', feats['feat'].shape)"
   ]
  },
  {
   "cell_type": "code",
   "execution_count": null,
   "metadata": {},
   "outputs": [],
   "source": [
    "\n",
    "import matplotlib.colors as colors\n",
    "\n",
    "seq_idx = 100\n",
    "heads = feats['feat']\n",
    "head = heads[seq_idx,6,:,:].cpu()\n",
    "\n",
    "# calc the mean-head over all 8\n",
    "h1 = torch.sum(heads[10, :, :, :], dim=0)\n",
    "nhead = (torch.nn.functional.normalize(h1, p=2.0, dim=1)).cpu()\n",
    "print('nhead shape:', nhead.shape)\n",
    "\n",
    "h1_colsum = torch.sum(h1, dim=0)\n",
    "h1_colsum = torch.nn.functional.normalize(h1_colsum, p=2.0, dim=0)\n",
    "print(h1_colsum.shape)\n",
    "print(h1_colsum[28:112])\n",
    "x = np.arange(0, len(h1_colsum)) #28, 112, 1)\n",
    "y = h1_colsum.cpu().numpy()\n",
    "plt.plot(x,y)\n",
    "\n",
    "plt.figure(figsize=(10,10))\n",
    "cmap = plt.get_cmap('viridis')\n",
    "plt.imshow(nhead, cmap=cmap)  \n",
    "xmin=0 #28\n",
    "xmax=248 #112\n",
    "xticks = torch.arange(xmin, xmax, 2).tolist()\n",
    "plt.colorbar() \n",
    "plt.xlim(xmin, xmax)\n",
    "plt.ylim(xmax, xmin)\n",
    "# plt.xticks(xticks)"
   ]
  },
  {
   "cell_type": "code",
   "execution_count": null,
   "metadata": {},
   "outputs": [],
   "source": []
  },
  {
   "cell_type": "code",
   "execution_count": null,
   "metadata": {},
   "outputs": [],
   "source": [
    "from einops import repeat\n",
    "\n",
    "print('trans_out shape:', trans_out.shape)\n",
    "b, n, d = trans_out.shape\n",
    "print('b:', b, ', n:', n, ', d:', d)\n",
    "\n",
    "ctx_labels = torch.arange(0, model_config['block_size']+1)\n",
    "print('ctx_labels shape:', ctx_labels.shape)\n",
    "\n",
    "\n",
    "# Three types of tokens to distinguish in the tsne plot:\n",
    "# 1. classifier token (used in the regression)\n",
    "# 2. aa tokens in the CDR region\n",
    "# 3. all others (including the CLS and PAD tokens)\n",
    "ctx_cats = torch.ones_like(ctx_labels)  # label everything like it's a non-CDR aa group\n",
    "ctx_cats[0] = 0  # the classifier token used in regression\n",
    "ctx_cats[29:109] = 2  # the CDR region is aa residues 29-108\n",
    "\n",
    "print(ctx_cats)\n",
    "\n",
    "labels = ctx_cats.repeat(train_config['batch_size'])\n",
    "print('labels shape:', labels.shape)\n",
    "\n",
    "ctx_vectors = torch.reshape(trans_out, (trans_out.shape[0]*trans_out.shape[1], trans_out.shape[2]))\n",
    "print('ctx_vectors shape', ctx_vectors.shape)"
   ]
  },
  {
   "cell_type": "code",
   "execution_count": null,
   "metadata": {},
   "outputs": [],
   "source": [
    "# Look at just one sequence\n",
    "#\n",
    "num_seqs = 1\n",
    "labels = ctx_cats.repeat(num_seqs)\n",
    "print('labels shape:', labels.shape)\n",
    "\n",
    "idx = 4\n",
    "one_seq = trans_out[idx:idx+num_seqs]\n",
    "print('shape one_seq:', one_seq.shape)\n",
    "new_shape = one_seq.shape[0]*one_seq.shape[1]\n",
    "\n",
    "ctx_vectors = one_seq\n",
    "ctx_vectors = torch.reshape(one_seq, (one_seq.shape[0]*one_seq.shape[1], one_seq.shape[2]))\n",
    "print('ctx_vectors shape', ctx_vectors.shape)"
   ]
  },
  {
   "cell_type": "code",
   "execution_count": null,
   "metadata": {},
   "outputs": [],
   "source": [
    "from sklearn.manifold import TSNE\n",
    "n_iter = 10000\n",
    "\n",
    "# 2D\n",
    "tsne = TSNE(n_components=2, random_state=config['seed'], metric=\"cosine\", n_iter=n_iter, verbose=True)\n",
    "x_tsne = tsne.fit_transform(ctx_vectors.detach().cpu().numpy())\n",
    "print('x_tsne shape:', x_tsne.shape)\n",
    "print(tsne.kl_divergence_)\n"
   ]
  },
  {
   "cell_type": "code",
   "execution_count": null,
   "metadata": {},
   "outputs": [],
   "source": [
    "from pathlib import Path\n",
    "path = Path('./misc_analysis/tSNE/tform_mlp/cleaned-4b-data')\n",
    "path.mkdir(parents=True, exist_ok=True)\n",
    "\n",
    "# pk.dump(x_tsne, open('./misc_analysis/tSNE/tform_mlp/cleaned-4b-data/tsne_x_10000iter_tform_mlp_v2.pkl', 'wb'))\n",
    "\n",
    "# x_tsne = pk.load(open('./misc_analysis/tSNE/tform_mlp_v2/tsne_x_10000iter_tform_mlp_v2.pkl', 'rb'))"
   ]
  },
  {
   "cell_type": "code",
   "execution_count": null,
   "metadata": {},
   "outputs": [],
   "source": [
    "import seaborn as sns\n",
    "import matplotlib.pyplot as plt\n",
    "\n",
    "# Create an array with three colors\n",
    "# colors = [\"#FF0000\", \"#00FF00\", \"#0000FF\", \"#000000\"] # rgb, black\n",
    "colors = [\"#0000FF\", \"#A0A0A0\", \"#FF0000\"] # rgb\n",
    "# Set custom color palette\n",
    "my_palette = sns.color_palette(colors)\n",
    "sns.set_palette(my_palette)\n",
    "\n",
    "fig, ax = plt.subplots(figsize=(10, 8))\n",
    "x_all = x_tsne[:, 0] \n",
    "y_all = x_tsne[:, 1] \n",
    "cat_all = labels     \n",
    "plt.title('t-SNE of transformer model output')  \n",
    "ax.set_xlabel(\"t-SNE y\")\n",
    "ax.set_ylabel(\"t-SNE x\")\n",
    "p = sns.scatterplot(x=x_all, y=y_all, alpha=0.6, ax=ax, palette=sns.color_palette(my_palette), hue=labels, legend=True)\n",
    "\n",
    "# title\n",
    "p.legend_.set_title('Token type')\n",
    "new_labels = ['regression token', 'aa: non-CDR', 'aa: CDR region (29-108)']\n",
    "for t, l in zip(p.legend_.texts, new_labels):\n",
    "    t.set_text(l)\n"
   ]
  },
  {
   "cell_type": "code",
   "execution_count": null,
   "metadata": {},
   "outputs": [],
   "source": [
    "# Set the color palette\n",
    "sns.set_palette(sns.color_palette(\"Paired\"))\n",
    "# Plot the data, specifying a different color for data points in\n",
    "# each of the day categories (weekday and weekend)\n",
    "ax = sns.scatterplot(x='day', y='miles_walked', data=dataset, hue='day_category')\n",
    "# Customize the axes and title\n",
    "ax.set_title(\"Miles walked\")\n",
    "ax.set_xlabel(\"day\")\n",
    "ax.set_ylabel(\"total miles\")\n",
    "# Remove top and right borders\n",
    "ax.spines['top'].set_visible(False)\n",
    "ax.spines['right'].set_visible(False)\n",
    "plt.show()"
   ]
  },
  {
   "cell_type": "markdown",
   "metadata": {},
   "source": [
    "----\n",
    "## Analysis of output of attention blocks to see the interactions\n",
    "\n",
    "### (also, see the BertViz tool:  https://github.com/jessevig/bertviz)"
   ]
  },
  {
   "cell_type": "code",
   "execution_count": null,
   "metadata": {},
   "outputs": [],
   "source": [
    "%autoreload\n",
    "from torch.utils.data import DataLoader\n",
    "from models.tform_mlp_v2 import TFormMLP_Lightning_v2\n",
    "from datasets.scFv_dataset_v2 import scFv_Dataset_v2 as dataset\n",
    "import os\n",
    "import yaml\n",
    "import pytorch_lightning as pl\n",
    "import torch\n",
    "\n",
    "# Read the config\n",
    "config_path = './config/tform_mlp_params.yaml'  \n",
    "with open(config_path, 'r') as file:\n",
    "    try:\n",
    "        config = yaml.safe_load(file)\n",
    "    except yaml.YAMLError as exc:\n",
    "        print(exc)\n",
    "\n",
    "model_config = config['model_params']\n",
    "train_config = config['train_params']    \n",
    "test_config = config['test_params']\n",
    "print(model_config)\n",
    "print(train_config)\n",
    "print(test_config)\n",
    "\n",
    "pl.seed_everything(config['seed'])\n",
    "\n"
   ]
  },
  {
   "cell_type": "code",
   "execution_count": null,
   "metadata": {},
   "outputs": [],
   "source": [
    "#----------------------------------------------------------\n",
    "# Load the dataset and dataloaders\n",
    "#----------------------------------------------------------\n",
    "test_data_path = './data/q_cleaned_4b_test_set.csv'\n",
    "test_dataset = dataset(train_config, model_config['block_size'], test_data_path, regularize=False)\n",
    "test_loader = DataLoader(test_dataset, shuffle=False, batch_size=train_config['batch_size'])\n",
    "\n",
    "#----------------------------------------------------------\n",
    "# Load pre-trained model\n",
    "#----------------------------------------------------------\n",
    "checkpoint_name = './lightning_logs/tform_mlp_model/cleaned-4-data/trained/checkpoints/epoch=316-step=9800-val_loss=0.11-loss=0.05.ckpt' \n",
    "model = TFormMLP_Lightning_v2.load_from_checkpoint(checkpoint_path=checkpoint_name, model_config=model_config, config=train_config)\n",
    "\n",
    "\n",
    "it = iter(test_loader)\n",
    "batch = next(it)\n",
    "x, y, name = batch\n",
    "print('x shape:', x.shape, ', y shape:', y.shape)\n",
    "\n",
    "y_hat, trans_out = model(x.to(model.device))\n",
    "print('y_hat shape:', y_hat.shape, ', trans_out shape', trans_out.shape)"
   ]
  },
  {
   "cell_type": "code",
   "execution_count": null,
   "metadata": {},
   "outputs": [],
   "source": []
  },
  {
   "cell_type": "code",
   "execution_count": null,
   "metadata": {},
   "outputs": [],
   "source": [
    "#\n",
    "# Use forward hooks to pick out the output tensors for the attention blocks\n",
    "#\n",
    "\n",
    "feats = {} #an empty dictionary\n",
    "def hook_func(m , inp ,op):\n",
    "   feats['feat'] = op.detach()\n",
    "\n",
    "# it = iter(test_loader)\n",
    "# batch = next(it)\n",
    "# x, x2, x3, y, name = batch\n",
    "y_hat, trans_out = model(x.to(model.device), x2.to(model.device), x3.to(model.device))\n",
    "\n",
    "print(feats['feat'].shape)"
   ]
  },
  {
   "cell_type": "code",
   "execution_count": null,
   "metadata": {},
   "outputs": [],
   "source": []
  },
  {
   "cell_type": "code",
   "execution_count": null,
   "metadata": {},
   "outputs": [],
   "source": []
  },
  {
   "cell_type": "code",
   "execution_count": null,
   "metadata": {},
   "outputs": [],
   "source": [
    "# Register hooks to pick outputs from specific layers in model"
   ]
  },
  {
   "cell_type": "code",
   "execution_count": null,
   "metadata": {},
   "outputs": [],
   "source": []
  },
  {
   "cell_type": "code",
   "execution_count": null,
   "metadata": {},
   "outputs": [],
   "source": []
  },
  {
   "cell_type": "code",
   "execution_count": null,
   "metadata": {},
   "outputs": [],
   "source": []
  }
 ],
 "metadata": {
  "kernelspec": {
   "display_name": "avm-dvm",
   "language": "python",
   "name": "python3"
  },
  "language_info": {
   "codemirror_mode": {
    "name": "ipython",
    "version": 3
   },
   "file_extension": ".py",
   "mimetype": "text/x-python",
   "name": "python",
   "nbconvert_exporter": "python",
   "pygments_lexer": "ipython3",
   "version": "3.9.5"
  }
 },
 "nbformat": 4,
 "nbformat_minor": 2
}
